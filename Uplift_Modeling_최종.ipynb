{
 "cells": [
  {
   "cell_type": "markdown",
   "metadata": {
    "id": "U_wTOmYRhKAj"
   },
   "source": [
    "# Task"
   ]
  },
  {
   "cell_type": "markdown",
   "metadata": {
    "id": "J8D1_jA1hNYK"
   },
   "source": [
    "**Claim1 : 해당 광고가 소비자들의 지출을 늘리는데 성공적으로 기여하는가?**\n",
    "\n",
    "**Claim2 : 고객을 Segmentation하라!**"
   ]
  },
  {
   "cell_type": "markdown",
   "metadata": {
    "id": "kmWrzXVYhVVj"
   },
   "source": [
    "## 고객을 아래 4집단으로 구분하여 광고의 효과를 극대화하려고 한다."
   ]
  },
  {
   "cell_type": "markdown",
   "metadata": {
    "id": "KsHES9LphQmq"
   },
   "source": [
    "1. Persuadables : 광고를 통해 실제 그 효과를 거둘 수 있는 고객\n",
    "2. Sure things : 광고를 하지 않아도 해당 제품을 소비하는 고객\n",
    "3. Lost cause : 광고여부에 관계없이 소비를 하지 않는 고객\n",
    "4. Sleeping dogs : 광고를 할 경우 오히려 소비를 하지 않는 고객\n",
    "\n",
    "\n",
    "-> 중요한 것은 Persuadables와 Sleeping dogs를 정확하게 구별해내는 것이다. 왜냐하면 Sure things와 Lost Cause는 광고에 큰 영향을 받지 않으나 나머지 두 집단은 광고에 영향을 크게 받기 때문이다. 물론 4고객을 정확하게 분류하여 Persuadables에게만 광고를 보내는 것이 제일 효율적이나 실제 모델의 오차 등을 고려했을 때, Sleeping dogs를 가려내는 것이 가장 중요한 Task가 될 것이다."
   ]
  },
  {
   "cell_type": "markdown",
   "metadata": {
    "id": "9Q-9TazThHJH"
   },
   "source": [
    "# uplift scoring을 이용한 Custromer Segmentation "
   ]
  },
  {
   "cell_type": "code",
   "execution_count": null,
   "metadata": {
    "id": "mNXmyDw3hHJK",
    "scrolled": true
   },
   "outputs": [],
   "source": [
    "!pip install pyuplift"
   ]
  },
  {
   "cell_type": "markdown",
   "metadata": {
    "id": "4VNlFlAShHJL"
   },
   "source": [
    "# Hilstrom Data"
   ]
  },
  {
   "cell_type": "markdown",
   "metadata": {
    "id": "BTlKnX1bhHJK"
   },
   "source": [
    "**Hillstrom dataset**<br>  \n",
    "이 데이터 셋은 남자 머천다이저가 제안한 이메일 광고를 받은 사람, 여자 머천다이저가 제안한 이메일 광고를 받은 사람, 아무런 광고를 받지 못한 사람으로 분류되서 각 사람들의 feature랑 웹사이트 방문 횟수 등이 있는 데이터 셋입니다. <br>이를 통해 광고가 효과가 있는지, 어떤 머천다이저가 보낸 광고가 효과가 있는지 여부를 알 수 있는 데이터셋입니다."
   ]
  },
  {
   "cell_type": "code",
   "execution_count": null,
   "metadata": {
    "id": "J1N3yifthHJL"
   },
   "outputs": [],
   "source": [
    "import pandas as pd\n",
    "import numpy as np\n",
    "import matplotlib.pyplot as plt\n",
    "import seaborn as sns\n",
    "from pyuplift.datasets import load_hillstrom_email_marketing\n",
    "\n",
    "df = load_hillstrom_email_marketing()"
   ]
  },
  {
   "cell_type": "code",
   "execution_count": null,
   "metadata": {
    "id": "nsGxFb2KhHJM",
    "outputId": "ac550513-8efe-45a6-c543-52146bfe655c",
    "scrolled": true
   },
   "outputs": [
    {
     "data": {
      "text/plain": [
       "dict_keys(['description', 'data', 'feature_names', 'treatment', 'target', 'target_spend', 'target_visit', 'target_conversion'])"
      ]
     },
     "execution_count": 2,
     "metadata": {},
     "output_type": "execute_result"
    }
   ],
   "source": [
    " df.keys()"
   ]
  },
  {
   "cell_type": "code",
   "execution_count": null,
   "metadata": {
    "id": "EQMfOmDNhHJM",
    "outputId": "7409f3c4-5725-489d-9f52-983e253ad37f"
   },
   "outputs": [
    {
     "data": {
      "text/plain": [
       "array([[ 10.  , 142.44,   1.  , ...,   0.  ,   1.  ,   0.  ],\n",
       "       [  6.  , 329.08,   1.  , ...,   0.  ,   0.  ,   1.  ],\n",
       "       [  7.  , 180.65,   0.  , ...,   0.  ,   0.  ,   1.  ],\n",
       "       ...,\n",
       "       [  6.  ,  29.99,   1.  , ...,   0.  ,   1.  ,   0.  ],\n",
       "       [  1.  , 552.94,   1.  , ...,   1.  ,   0.  ,   0.  ],\n",
       "       [  1.  , 472.82,   0.  , ...,   0.  ,   0.  ,   1.  ]])"
      ]
     },
     "metadata": {},
     "output_type": "display_data"
    },
    {
     "data": {
      "text/plain": [
       "array(['recency', 'history', 'mens', 'womens', 'newbie', 'zip_code_Rural',\n",
       "       'zip_code_Surburban', 'zip_code_Urban',\n",
       "       'history_segment_$0 - $100', 'history_segment_$1,000 +',\n",
       "       'history_segment_$100 - $200', 'history_segment_$200 - $350',\n",
       "       'history_segment_$350 - $500', 'history_segment_$500 - $750',\n",
       "       'history_segment_$750 - $1,000', 'channel_Multichannel',\n",
       "       'channel_Phone', 'channel_Web'], dtype='<U29')"
      ]
     },
     "metadata": {},
     "output_type": "display_data"
    }
   ],
   "source": [
    "display(df['data'])\n",
    "display(df['feature_names'])"
   ]
  },
  {
   "cell_type": "markdown",
   "metadata": {
    "id": "ehRlVV6mhHJN"
   },
   "source": [
    "## Dataset Decription"
   ]
  },
  {
   "cell_type": "markdown",
   "metadata": {
    "id": "kxmYZP8VhHJN"
   },
   "source": [
    "**Feature Dataset**\n",
    "\n",
    "1. Recency : 가장 최근 결제가 발생했던 월\n",
    "2. History : 지난해 실제 지출했던 금액($)\n",
    "3. Newbie : 지난해 처음 가입한 고객인지 (1: Newbie)\n",
    "4. Zip_code : 시골,근교,도시로 구분\n",
    "5. History_segment : 지난해 지출한 금액을 기준으로 분류\n",
    "6. Channel : 지난해 결제를 진행한 수단(Phone : 스마트폰앱을 통해 / Web : 웹을 통해 / Multi : 섞여있음)\n",
    "7. Treatment : 처치 (1: 남성용 상품에 대한 광고가 적힌 이메일을 받은 집단 / 2: 여성용 상품에 대한 광고가 적힌 이메일을 받은 집단 / 0: 아무런 광고를 받지 못한 집단(Control Group))\n",
    "8. Man / woman : 고객이 작년에 남성/여성 상품을 구매를 한 여부. (0 / 1)"
   ]
  },
  {
   "cell_type": "code",
   "execution_count": null,
   "metadata": {
    "id": "rKh0kNiehHJN",
    "outputId": "a194a339-8497-4739-e90a-85f032a357fd",
    "scrolled": true
   },
   "outputs": [
    {
     "data": {
      "text/html": [
       "<div>\n",
       "<style scoped>\n",
       "    .dataframe tbody tr th:only-of-type {\n",
       "        vertical-align: middle;\n",
       "    }\n",
       "\n",
       "    .dataframe tbody tr th {\n",
       "        vertical-align: top;\n",
       "    }\n",
       "\n",
       "    .dataframe thead th {\n",
       "        text-align: right;\n",
       "    }\n",
       "</style>\n",
       "<table border=\"1\" class=\"dataframe\">\n",
       "  <thead>\n",
       "    <tr style=\"text-align: right;\">\n",
       "      <th></th>\n",
       "      <th>recency</th>\n",
       "      <th>history</th>\n",
       "      <th>mens</th>\n",
       "      <th>womens</th>\n",
       "      <th>newbie</th>\n",
       "      <th>zip_code_Rural</th>\n",
       "      <th>zip_code_Surburban</th>\n",
       "      <th>zip_code_Urban</th>\n",
       "      <th>history_segment_$0 - $100</th>\n",
       "      <th>history_segment_$1,000 +</th>\n",
       "      <th>history_segment_$100 - $200</th>\n",
       "      <th>history_segment_$200 - $350</th>\n",
       "      <th>history_segment_$350 - $500</th>\n",
       "      <th>history_segment_$500 - $750</th>\n",
       "      <th>history_segment_$750 - $1,000</th>\n",
       "      <th>channel_Multichannel</th>\n",
       "      <th>channel_Phone</th>\n",
       "      <th>channel_Web</th>\n",
       "      <th>treatment</th>\n",
       "    </tr>\n",
       "  </thead>\n",
       "  <tbody>\n",
       "    <tr>\n",
       "      <th>0</th>\n",
       "      <td>10.0</td>\n",
       "      <td>142.44</td>\n",
       "      <td>1.0</td>\n",
       "      <td>0.0</td>\n",
       "      <td>0.0</td>\n",
       "      <td>0.0</td>\n",
       "      <td>1.0</td>\n",
       "      <td>0.0</td>\n",
       "      <td>0.0</td>\n",
       "      <td>0.0</td>\n",
       "      <td>1.0</td>\n",
       "      <td>0.0</td>\n",
       "      <td>0.0</td>\n",
       "      <td>0.0</td>\n",
       "      <td>0.0</td>\n",
       "      <td>0.0</td>\n",
       "      <td>1.0</td>\n",
       "      <td>0.0</td>\n",
       "      <td>2</td>\n",
       "    </tr>\n",
       "    <tr>\n",
       "      <th>1</th>\n",
       "      <td>6.0</td>\n",
       "      <td>329.08</td>\n",
       "      <td>1.0</td>\n",
       "      <td>1.0</td>\n",
       "      <td>1.0</td>\n",
       "      <td>1.0</td>\n",
       "      <td>0.0</td>\n",
       "      <td>0.0</td>\n",
       "      <td>0.0</td>\n",
       "      <td>0.0</td>\n",
       "      <td>0.0</td>\n",
       "      <td>1.0</td>\n",
       "      <td>0.0</td>\n",
       "      <td>0.0</td>\n",
       "      <td>0.0</td>\n",
       "      <td>0.0</td>\n",
       "      <td>0.0</td>\n",
       "      <td>1.0</td>\n",
       "      <td>0</td>\n",
       "    </tr>\n",
       "    <tr>\n",
       "      <th>2</th>\n",
       "      <td>7.0</td>\n",
       "      <td>180.65</td>\n",
       "      <td>0.0</td>\n",
       "      <td>1.0</td>\n",
       "      <td>1.0</td>\n",
       "      <td>0.0</td>\n",
       "      <td>1.0</td>\n",
       "      <td>0.0</td>\n",
       "      <td>0.0</td>\n",
       "      <td>0.0</td>\n",
       "      <td>1.0</td>\n",
       "      <td>0.0</td>\n",
       "      <td>0.0</td>\n",
       "      <td>0.0</td>\n",
       "      <td>0.0</td>\n",
       "      <td>0.0</td>\n",
       "      <td>0.0</td>\n",
       "      <td>1.0</td>\n",
       "      <td>2</td>\n",
       "    </tr>\n",
       "    <tr>\n",
       "      <th>3</th>\n",
       "      <td>9.0</td>\n",
       "      <td>675.83</td>\n",
       "      <td>1.0</td>\n",
       "      <td>0.0</td>\n",
       "      <td>1.0</td>\n",
       "      <td>1.0</td>\n",
       "      <td>0.0</td>\n",
       "      <td>0.0</td>\n",
       "      <td>0.0</td>\n",
       "      <td>0.0</td>\n",
       "      <td>0.0</td>\n",
       "      <td>0.0</td>\n",
       "      <td>0.0</td>\n",
       "      <td>1.0</td>\n",
       "      <td>0.0</td>\n",
       "      <td>0.0</td>\n",
       "      <td>0.0</td>\n",
       "      <td>1.0</td>\n",
       "      <td>1</td>\n",
       "    </tr>\n",
       "    <tr>\n",
       "      <th>4</th>\n",
       "      <td>2.0</td>\n",
       "      <td>45.34</td>\n",
       "      <td>1.0</td>\n",
       "      <td>0.0</td>\n",
       "      <td>0.0</td>\n",
       "      <td>0.0</td>\n",
       "      <td>0.0</td>\n",
       "      <td>1.0</td>\n",
       "      <td>1.0</td>\n",
       "      <td>0.0</td>\n",
       "      <td>0.0</td>\n",
       "      <td>0.0</td>\n",
       "      <td>0.0</td>\n",
       "      <td>0.0</td>\n",
       "      <td>0.0</td>\n",
       "      <td>0.0</td>\n",
       "      <td>0.0</td>\n",
       "      <td>1.0</td>\n",
       "      <td>2</td>\n",
       "    </tr>\n",
       "    <tr>\n",
       "      <th>...</th>\n",
       "      <td>...</td>\n",
       "      <td>...</td>\n",
       "      <td>...</td>\n",
       "      <td>...</td>\n",
       "      <td>...</td>\n",
       "      <td>...</td>\n",
       "      <td>...</td>\n",
       "      <td>...</td>\n",
       "      <td>...</td>\n",
       "      <td>...</td>\n",
       "      <td>...</td>\n",
       "      <td>...</td>\n",
       "      <td>...</td>\n",
       "      <td>...</td>\n",
       "      <td>...</td>\n",
       "      <td>...</td>\n",
       "      <td>...</td>\n",
       "      <td>...</td>\n",
       "      <td>...</td>\n",
       "    </tr>\n",
       "    <tr>\n",
       "      <th>63995</th>\n",
       "      <td>10.0</td>\n",
       "      <td>105.54</td>\n",
       "      <td>1.0</td>\n",
       "      <td>0.0</td>\n",
       "      <td>0.0</td>\n",
       "      <td>0.0</td>\n",
       "      <td>0.0</td>\n",
       "      <td>1.0</td>\n",
       "      <td>0.0</td>\n",
       "      <td>0.0</td>\n",
       "      <td>1.0</td>\n",
       "      <td>0.0</td>\n",
       "      <td>0.0</td>\n",
       "      <td>0.0</td>\n",
       "      <td>0.0</td>\n",
       "      <td>0.0</td>\n",
       "      <td>0.0</td>\n",
       "      <td>1.0</td>\n",
       "      <td>1</td>\n",
       "    </tr>\n",
       "    <tr>\n",
       "      <th>63996</th>\n",
       "      <td>5.0</td>\n",
       "      <td>38.91</td>\n",
       "      <td>0.0</td>\n",
       "      <td>1.0</td>\n",
       "      <td>1.0</td>\n",
       "      <td>0.0</td>\n",
       "      <td>0.0</td>\n",
       "      <td>1.0</td>\n",
       "      <td>1.0</td>\n",
       "      <td>0.0</td>\n",
       "      <td>0.0</td>\n",
       "      <td>0.0</td>\n",
       "      <td>0.0</td>\n",
       "      <td>0.0</td>\n",
       "      <td>0.0</td>\n",
       "      <td>0.0</td>\n",
       "      <td>1.0</td>\n",
       "      <td>0.0</td>\n",
       "      <td>1</td>\n",
       "    </tr>\n",
       "    <tr>\n",
       "      <th>63997</th>\n",
       "      <td>6.0</td>\n",
       "      <td>29.99</td>\n",
       "      <td>1.0</td>\n",
       "      <td>0.0</td>\n",
       "      <td>1.0</td>\n",
       "      <td>0.0</td>\n",
       "      <td>0.0</td>\n",
       "      <td>1.0</td>\n",
       "      <td>1.0</td>\n",
       "      <td>0.0</td>\n",
       "      <td>0.0</td>\n",
       "      <td>0.0</td>\n",
       "      <td>0.0</td>\n",
       "      <td>0.0</td>\n",
       "      <td>0.0</td>\n",
       "      <td>0.0</td>\n",
       "      <td>1.0</td>\n",
       "      <td>0.0</td>\n",
       "      <td>1</td>\n",
       "    </tr>\n",
       "    <tr>\n",
       "      <th>63998</th>\n",
       "      <td>1.0</td>\n",
       "      <td>552.94</td>\n",
       "      <td>1.0</td>\n",
       "      <td>0.0</td>\n",
       "      <td>1.0</td>\n",
       "      <td>0.0</td>\n",
       "      <td>1.0</td>\n",
       "      <td>0.0</td>\n",
       "      <td>0.0</td>\n",
       "      <td>0.0</td>\n",
       "      <td>0.0</td>\n",
       "      <td>0.0</td>\n",
       "      <td>0.0</td>\n",
       "      <td>1.0</td>\n",
       "      <td>0.0</td>\n",
       "      <td>1.0</td>\n",
       "      <td>0.0</td>\n",
       "      <td>0.0</td>\n",
       "      <td>2</td>\n",
       "    </tr>\n",
       "    <tr>\n",
       "      <th>63999</th>\n",
       "      <td>1.0</td>\n",
       "      <td>472.82</td>\n",
       "      <td>0.0</td>\n",
       "      <td>1.0</td>\n",
       "      <td>0.0</td>\n",
       "      <td>0.0</td>\n",
       "      <td>1.0</td>\n",
       "      <td>0.0</td>\n",
       "      <td>0.0</td>\n",
       "      <td>0.0</td>\n",
       "      <td>0.0</td>\n",
       "      <td>0.0</td>\n",
       "      <td>1.0</td>\n",
       "      <td>0.0</td>\n",
       "      <td>0.0</td>\n",
       "      <td>0.0</td>\n",
       "      <td>0.0</td>\n",
       "      <td>1.0</td>\n",
       "      <td>1</td>\n",
       "    </tr>\n",
       "  </tbody>\n",
       "</table>\n",
       "<p>64000 rows × 19 columns</p>\n",
       "</div>"
      ],
      "text/plain": [
       "       recency  history  mens  womens  newbie  zip_code_Rural  \\\n",
       "0         10.0   142.44   1.0     0.0     0.0             0.0   \n",
       "1          6.0   329.08   1.0     1.0     1.0             1.0   \n",
       "2          7.0   180.65   0.0     1.0     1.0             0.0   \n",
       "3          9.0   675.83   1.0     0.0     1.0             1.0   \n",
       "4          2.0    45.34   1.0     0.0     0.0             0.0   \n",
       "...        ...      ...   ...     ...     ...             ...   \n",
       "63995     10.0   105.54   1.0     0.0     0.0             0.0   \n",
       "63996      5.0    38.91   0.0     1.0     1.0             0.0   \n",
       "63997      6.0    29.99   1.0     0.0     1.0             0.0   \n",
       "63998      1.0   552.94   1.0     0.0     1.0             0.0   \n",
       "63999      1.0   472.82   0.0     1.0     0.0             0.0   \n",
       "\n",
       "       zip_code_Surburban  zip_code_Urban  history_segment_$0 - $100  \\\n",
       "0                     1.0             0.0                        0.0   \n",
       "1                     0.0             0.0                        0.0   \n",
       "2                     1.0             0.0                        0.0   \n",
       "3                     0.0             0.0                        0.0   \n",
       "4                     0.0             1.0                        1.0   \n",
       "...                   ...             ...                        ...   \n",
       "63995                 0.0             1.0                        0.0   \n",
       "63996                 0.0             1.0                        1.0   \n",
       "63997                 0.0             1.0                        1.0   \n",
       "63998                 1.0             0.0                        0.0   \n",
       "63999                 1.0             0.0                        0.0   \n",
       "\n",
       "       history_segment_$1,000 +  history_segment_$100 - $200  \\\n",
       "0                           0.0                          1.0   \n",
       "1                           0.0                          0.0   \n",
       "2                           0.0                          1.0   \n",
       "3                           0.0                          0.0   \n",
       "4                           0.0                          0.0   \n",
       "...                         ...                          ...   \n",
       "63995                       0.0                          1.0   \n",
       "63996                       0.0                          0.0   \n",
       "63997                       0.0                          0.0   \n",
       "63998                       0.0                          0.0   \n",
       "63999                       0.0                          0.0   \n",
       "\n",
       "       history_segment_$200 - $350  history_segment_$350 - $500  \\\n",
       "0                              0.0                          0.0   \n",
       "1                              1.0                          0.0   \n",
       "2                              0.0                          0.0   \n",
       "3                              0.0                          0.0   \n",
       "4                              0.0                          0.0   \n",
       "...                            ...                          ...   \n",
       "63995                          0.0                          0.0   \n",
       "63996                          0.0                          0.0   \n",
       "63997                          0.0                          0.0   \n",
       "63998                          0.0                          0.0   \n",
       "63999                          0.0                          1.0   \n",
       "\n",
       "       history_segment_$500 - $750  history_segment_$750 - $1,000  \\\n",
       "0                              0.0                            0.0   \n",
       "1                              0.0                            0.0   \n",
       "2                              0.0                            0.0   \n",
       "3                              1.0                            0.0   \n",
       "4                              0.0                            0.0   \n",
       "...                            ...                            ...   \n",
       "63995                          0.0                            0.0   \n",
       "63996                          0.0                            0.0   \n",
       "63997                          0.0                            0.0   \n",
       "63998                          1.0                            0.0   \n",
       "63999                          0.0                            0.0   \n",
       "\n",
       "       channel_Multichannel  channel_Phone  channel_Web  treatment  \n",
       "0                       0.0            1.0          0.0          2  \n",
       "1                       0.0            0.0          1.0          0  \n",
       "2                       0.0            0.0          1.0          2  \n",
       "3                       0.0            0.0          1.0          1  \n",
       "4                       0.0            0.0          1.0          2  \n",
       "...                     ...            ...          ...        ...  \n",
       "63995                   0.0            0.0          1.0          1  \n",
       "63996                   0.0            1.0          0.0          1  \n",
       "63997                   0.0            1.0          0.0          1  \n",
       "63998                   1.0            0.0          0.0          2  \n",
       "63999                   0.0            0.0          1.0          1  \n",
       "\n",
       "[64000 rows x 19 columns]"
      ]
     },
     "execution_count": 4,
     "metadata": {},
     "output_type": "execute_result"
    }
   ],
   "source": [
    "cols = list(df['feature_names'])\n",
    "data_feature = pd.DataFrame(df['data'],columns=cols)\n",
    "\n",
    "data_feature['treatment'] = df['treatment']\n",
    "data_feature"
   ]
  },
  {
   "cell_type": "markdown",
   "metadata": {
    "id": "mDl_kwORhHJN"
   },
   "source": [
    "**Target Dataset**\n",
    "\n",
    "1. target_spend : 해당 광고가 있은 후 2주 사이 지출금액\n",
    "2. target_visit : 해당 광고가 있은 후 2주 사이 웹사이트에 방문했는지 (1: 방문 / 0: 방문x)\n",
    "3. target_conversion : 해당 광고가 있은 후 2주 사이 광고가 된 상품을 구매했는지 (1: 구매 / 0: 구매x)"
   ]
  },
  {
   "cell_type": "code",
   "execution_count": null,
   "metadata": {
    "id": "QxgpOgU8hHJO",
    "outputId": "846e0862-eb74-427b-d557-b85aa878baaf"
   },
   "outputs": [
    {
     "data": {
      "text/html": [
       "<div>\n",
       "<style scoped>\n",
       "    .dataframe tbody tr th:only-of-type {\n",
       "        vertical-align: middle;\n",
       "    }\n",
       "\n",
       "    .dataframe tbody tr th {\n",
       "        vertical-align: top;\n",
       "    }\n",
       "\n",
       "    .dataframe thead th {\n",
       "        text-align: right;\n",
       "    }\n",
       "</style>\n",
       "<table border=\"1\" class=\"dataframe\">\n",
       "  <thead>\n",
       "    <tr style=\"text-align: right;\">\n",
       "      <th></th>\n",
       "      <th>target_spend</th>\n",
       "      <th>target_visit</th>\n",
       "      <th>target_conversion</th>\n",
       "    </tr>\n",
       "  </thead>\n",
       "  <tbody>\n",
       "    <tr>\n",
       "      <th>0</th>\n",
       "      <td>0.0</td>\n",
       "      <td>0.0</td>\n",
       "      <td>0.0</td>\n",
       "    </tr>\n",
       "    <tr>\n",
       "      <th>1</th>\n",
       "      <td>0.0</td>\n",
       "      <td>0.0</td>\n",
       "      <td>0.0</td>\n",
       "    </tr>\n",
       "    <tr>\n",
       "      <th>2</th>\n",
       "      <td>0.0</td>\n",
       "      <td>0.0</td>\n",
       "      <td>0.0</td>\n",
       "    </tr>\n",
       "    <tr>\n",
       "      <th>3</th>\n",
       "      <td>0.0</td>\n",
       "      <td>0.0</td>\n",
       "      <td>0.0</td>\n",
       "    </tr>\n",
       "    <tr>\n",
       "      <th>4</th>\n",
       "      <td>0.0</td>\n",
       "      <td>0.0</td>\n",
       "      <td>0.0</td>\n",
       "    </tr>\n",
       "    <tr>\n",
       "      <th>...</th>\n",
       "      <td>...</td>\n",
       "      <td>...</td>\n",
       "      <td>...</td>\n",
       "    </tr>\n",
       "    <tr>\n",
       "      <th>63995</th>\n",
       "      <td>0.0</td>\n",
       "      <td>0.0</td>\n",
       "      <td>0.0</td>\n",
       "    </tr>\n",
       "    <tr>\n",
       "      <th>63996</th>\n",
       "      <td>0.0</td>\n",
       "      <td>0.0</td>\n",
       "      <td>0.0</td>\n",
       "    </tr>\n",
       "    <tr>\n",
       "      <th>63997</th>\n",
       "      <td>0.0</td>\n",
       "      <td>0.0</td>\n",
       "      <td>0.0</td>\n",
       "    </tr>\n",
       "    <tr>\n",
       "      <th>63998</th>\n",
       "      <td>0.0</td>\n",
       "      <td>0.0</td>\n",
       "      <td>0.0</td>\n",
       "    </tr>\n",
       "    <tr>\n",
       "      <th>63999</th>\n",
       "      <td>0.0</td>\n",
       "      <td>0.0</td>\n",
       "      <td>0.0</td>\n",
       "    </tr>\n",
       "  </tbody>\n",
       "</table>\n",
       "<p>64000 rows × 3 columns</p>\n",
       "</div>"
      ],
      "text/plain": [
       "       target_spend  target_visit  target_conversion\n",
       "0               0.0           0.0                0.0\n",
       "1               0.0           0.0                0.0\n",
       "2               0.0           0.0                0.0\n",
       "3               0.0           0.0                0.0\n",
       "4               0.0           0.0                0.0\n",
       "...             ...           ...                ...\n",
       "63995           0.0           0.0                0.0\n",
       "63996           0.0           0.0                0.0\n",
       "63997           0.0           0.0                0.0\n",
       "63998           0.0           0.0                0.0\n",
       "63999           0.0           0.0                0.0\n",
       "\n",
       "[64000 rows x 3 columns]"
      ]
     },
     "execution_count": 5,
     "metadata": {},
     "output_type": "execute_result"
    }
   ],
   "source": [
    "cols_target = ['target_spend','target_visit','target_conversion']\n",
    "array_target = np.vstack((df['target_spend'],df['target_visit'],df['target_conversion'])).T\n",
    "data_target = pd.DataFrame(array_target,columns=cols_target)\n",
    "data_target"
   ]
  },
  {
   "cell_type": "code",
   "execution_count": null,
   "metadata": {
    "id": "9ET1_iebhHJO"
   },
   "outputs": [],
   "source": [
    "dataset = pd.concat([data_feature,data_target],axis=1)"
   ]
  },
  {
   "cell_type": "markdown",
   "metadata": {
    "id": "wUbrjhjMhHJP"
   },
   "source": [
    "## Model Description"
   ]
  },
  {
   "cell_type": "markdown",
   "metadata": {
    "id": "loSgnUqxhHJP"
   },
   "source": [
    "**UpLift Model**\n"
   ]
  },
  {
   "cell_type": "markdown",
   "metadata": {
    "id": "cA_B7f5ShHJP"
   },
   "source": [
    "이상적인 세계에서 우리는 각각의 개인을 그들의 \"유형\"으로 식별할 수 있을 것이고, 우리는 소위 \" 설득 가능한\" 사람들만을 목표로 할 것이다. \n",
    "왜냐하면 이곳이 우리가 투자 수익을 가장 많이 얻을 수 있는 곳이기 때문이다. \n",
    "그리고 우리는 분명히 \"잠자는 개들\"을 목표로 하고 싶지 않을 것이다. \n",
    "현실적으로 우리는 한 개인이 어떤 사람인지 발견하기를 바랄 수 없다. \n",
    "그들에게 오직 한 가지 treatment만을 보여줄 수 있기 때문이다.\n",
    "대신, \"비슷한 사람들\"의 집단이 평균적으로 어떤 일을 할 것인지 알려주기 위해 통계와 기계 학습을 이용할 수 있다.\n",
    "\n",
    "각 개인은 -1에서 1 사이의 lift 점수를 받고, 이 점수를 사용하여 누구를 타깃으로 할지 결정한다. \n",
    "정확한 모델이 있다면 양성 점수가 높은 사람이 치료에 더 잘 반응할 것이므로 표적이 되어야 하는 반면, \n",
    "음성 점수가 낮은 사람은 반응이 나쁘므로 표적이 되어서는 안 된다."
   ]
  },
  {
   "cell_type": "markdown",
   "metadata": {
    "id": "sWGRezPthHJP"
   },
   "source": [
    "# Preprocessing and EDA"
   ]
  },
  {
   "cell_type": "markdown",
   "metadata": {
    "id": "NxNZWCsAhHJP"
   },
   "source": [
    "## Preprocessing"
   ]
  },
  {
   "cell_type": "markdown",
   "metadata": {
    "id": "0-TZCdaYhHJP"
   },
   "source": [
    "각각의 성별에 대한 구매 전환률을 확인하게 위해 작년에 둘 다(두 개의 성별) 구매한 경우를 삭제해주도록 한다."
   ]
  },
  {
   "cell_type": "markdown",
   "metadata": {
    "id": "O-uK1dQzhHJP"
   },
   "source": [
    "**1) mens와 womens가 모두 1.0인 사람들은 제거**"
   ]
  },
  {
   "cell_type": "code",
   "execution_count": null,
   "metadata": {
    "id": "XMLNSyO1hHJP"
   },
   "outputs": [],
   "source": [
    "idx_lst = []\n",
    "for i in range(len(dataset)):\n",
    "    if dataset['mens'].iloc[i] == 1.0 and dataset['womens'].iloc[i] == 1.0:\n",
    "        idx_lst.append(i)\n",
    "\n",
    "dataset.drop(idx_lst,axis=0,inplace=True)\n",
    "# 행 삭제\n",
    "\n",
    "final_dataset = dataset.reset_index().drop('index',axis=1)"
   ]
  },
  {
   "cell_type": "code",
   "execution_count": null,
   "metadata": {
    "id": "DD7rhcEAhHJP",
    "outputId": "c864a350-de38-4f20-f21a-cb45e843a220"
   },
   "outputs": [
    {
     "data": {
      "text/html": [
       "<div>\n",
       "<style scoped>\n",
       "    .dataframe tbody tr th:only-of-type {\n",
       "        vertical-align: middle;\n",
       "    }\n",
       "\n",
       "    .dataframe tbody tr th {\n",
       "        vertical-align: top;\n",
       "    }\n",
       "\n",
       "    .dataframe thead th {\n",
       "        text-align: right;\n",
       "    }\n",
       "</style>\n",
       "<table border=\"1\" class=\"dataframe\">\n",
       "  <thead>\n",
       "    <tr style=\"text-align: right;\">\n",
       "      <th></th>\n",
       "      <th>recency</th>\n",
       "      <th>history</th>\n",
       "      <th>mens</th>\n",
       "      <th>womens</th>\n",
       "      <th>newbie</th>\n",
       "      <th>zip_code_Rural</th>\n",
       "      <th>zip_code_Surburban</th>\n",
       "      <th>zip_code_Urban</th>\n",
       "      <th>history_segment_$0 - $100</th>\n",
       "      <th>history_segment_$1,000 +</th>\n",
       "      <th>...</th>\n",
       "      <th>history_segment_$350 - $500</th>\n",
       "      <th>history_segment_$500 - $750</th>\n",
       "      <th>history_segment_$750 - $1,000</th>\n",
       "      <th>channel_Multichannel</th>\n",
       "      <th>channel_Phone</th>\n",
       "      <th>channel_Web</th>\n",
       "      <th>treatment</th>\n",
       "      <th>target_spend</th>\n",
       "      <th>target_visit</th>\n",
       "      <th>target_conversion</th>\n",
       "    </tr>\n",
       "  </thead>\n",
       "  <tbody>\n",
       "    <tr>\n",
       "      <th>0</th>\n",
       "      <td>10.0</td>\n",
       "      <td>142.44</td>\n",
       "      <td>1.0</td>\n",
       "      <td>0.0</td>\n",
       "      <td>0.0</td>\n",
       "      <td>0.0</td>\n",
       "      <td>1.0</td>\n",
       "      <td>0.0</td>\n",
       "      <td>0.0</td>\n",
       "      <td>0.0</td>\n",
       "      <td>...</td>\n",
       "      <td>0.0</td>\n",
       "      <td>0.0</td>\n",
       "      <td>0.0</td>\n",
       "      <td>0.0</td>\n",
       "      <td>1.0</td>\n",
       "      <td>0.0</td>\n",
       "      <td>2</td>\n",
       "      <td>0.0</td>\n",
       "      <td>0.0</td>\n",
       "      <td>0.0</td>\n",
       "    </tr>\n",
       "    <tr>\n",
       "      <th>1</th>\n",
       "      <td>7.0</td>\n",
       "      <td>180.65</td>\n",
       "      <td>0.0</td>\n",
       "      <td>1.0</td>\n",
       "      <td>1.0</td>\n",
       "      <td>0.0</td>\n",
       "      <td>1.0</td>\n",
       "      <td>0.0</td>\n",
       "      <td>0.0</td>\n",
       "      <td>0.0</td>\n",
       "      <td>...</td>\n",
       "      <td>0.0</td>\n",
       "      <td>0.0</td>\n",
       "      <td>0.0</td>\n",
       "      <td>0.0</td>\n",
       "      <td>0.0</td>\n",
       "      <td>1.0</td>\n",
       "      <td>2</td>\n",
       "      <td>0.0</td>\n",
       "      <td>0.0</td>\n",
       "      <td>0.0</td>\n",
       "    </tr>\n",
       "    <tr>\n",
       "      <th>2</th>\n",
       "      <td>9.0</td>\n",
       "      <td>675.83</td>\n",
       "      <td>1.0</td>\n",
       "      <td>0.0</td>\n",
       "      <td>1.0</td>\n",
       "      <td>1.0</td>\n",
       "      <td>0.0</td>\n",
       "      <td>0.0</td>\n",
       "      <td>0.0</td>\n",
       "      <td>0.0</td>\n",
       "      <td>...</td>\n",
       "      <td>0.0</td>\n",
       "      <td>1.0</td>\n",
       "      <td>0.0</td>\n",
       "      <td>0.0</td>\n",
       "      <td>0.0</td>\n",
       "      <td>1.0</td>\n",
       "      <td>1</td>\n",
       "      <td>0.0</td>\n",
       "      <td>0.0</td>\n",
       "      <td>0.0</td>\n",
       "    </tr>\n",
       "    <tr>\n",
       "      <th>3</th>\n",
       "      <td>2.0</td>\n",
       "      <td>45.34</td>\n",
       "      <td>1.0</td>\n",
       "      <td>0.0</td>\n",
       "      <td>0.0</td>\n",
       "      <td>0.0</td>\n",
       "      <td>0.0</td>\n",
       "      <td>1.0</td>\n",
       "      <td>1.0</td>\n",
       "      <td>0.0</td>\n",
       "      <td>...</td>\n",
       "      <td>0.0</td>\n",
       "      <td>0.0</td>\n",
       "      <td>0.0</td>\n",
       "      <td>0.0</td>\n",
       "      <td>0.0</td>\n",
       "      <td>1.0</td>\n",
       "      <td>2</td>\n",
       "      <td>0.0</td>\n",
       "      <td>0.0</td>\n",
       "      <td>0.0</td>\n",
       "    </tr>\n",
       "    <tr>\n",
       "      <th>4</th>\n",
       "      <td>6.0</td>\n",
       "      <td>134.83</td>\n",
       "      <td>0.0</td>\n",
       "      <td>1.0</td>\n",
       "      <td>0.0</td>\n",
       "      <td>0.0</td>\n",
       "      <td>1.0</td>\n",
       "      <td>0.0</td>\n",
       "      <td>0.0</td>\n",
       "      <td>0.0</td>\n",
       "      <td>...</td>\n",
       "      <td>0.0</td>\n",
       "      <td>0.0</td>\n",
       "      <td>0.0</td>\n",
       "      <td>0.0</td>\n",
       "      <td>1.0</td>\n",
       "      <td>0.0</td>\n",
       "      <td>2</td>\n",
       "      <td>0.0</td>\n",
       "      <td>1.0</td>\n",
       "      <td>0.0</td>\n",
       "    </tr>\n",
       "    <tr>\n",
       "      <th>...</th>\n",
       "      <td>...</td>\n",
       "      <td>...</td>\n",
       "      <td>...</td>\n",
       "      <td>...</td>\n",
       "      <td>...</td>\n",
       "      <td>...</td>\n",
       "      <td>...</td>\n",
       "      <td>...</td>\n",
       "      <td>...</td>\n",
       "      <td>...</td>\n",
       "      <td>...</td>\n",
       "      <td>...</td>\n",
       "      <td>...</td>\n",
       "      <td>...</td>\n",
       "      <td>...</td>\n",
       "      <td>...</td>\n",
       "      <td>...</td>\n",
       "      <td>...</td>\n",
       "      <td>...</td>\n",
       "      <td>...</td>\n",
       "      <td>...</td>\n",
       "    </tr>\n",
       "    <tr>\n",
       "      <th>57547</th>\n",
       "      <td>10.0</td>\n",
       "      <td>105.54</td>\n",
       "      <td>1.0</td>\n",
       "      <td>0.0</td>\n",
       "      <td>0.0</td>\n",
       "      <td>0.0</td>\n",
       "      <td>0.0</td>\n",
       "      <td>1.0</td>\n",
       "      <td>0.0</td>\n",
       "      <td>0.0</td>\n",
       "      <td>...</td>\n",
       "      <td>0.0</td>\n",
       "      <td>0.0</td>\n",
       "      <td>0.0</td>\n",
       "      <td>0.0</td>\n",
       "      <td>0.0</td>\n",
       "      <td>1.0</td>\n",
       "      <td>1</td>\n",
       "      <td>0.0</td>\n",
       "      <td>0.0</td>\n",
       "      <td>0.0</td>\n",
       "    </tr>\n",
       "    <tr>\n",
       "      <th>57548</th>\n",
       "      <td>5.0</td>\n",
       "      <td>38.91</td>\n",
       "      <td>0.0</td>\n",
       "      <td>1.0</td>\n",
       "      <td>1.0</td>\n",
       "      <td>0.0</td>\n",
       "      <td>0.0</td>\n",
       "      <td>1.0</td>\n",
       "      <td>1.0</td>\n",
       "      <td>0.0</td>\n",
       "      <td>...</td>\n",
       "      <td>0.0</td>\n",
       "      <td>0.0</td>\n",
       "      <td>0.0</td>\n",
       "      <td>0.0</td>\n",
       "      <td>1.0</td>\n",
       "      <td>0.0</td>\n",
       "      <td>1</td>\n",
       "      <td>0.0</td>\n",
       "      <td>0.0</td>\n",
       "      <td>0.0</td>\n",
       "    </tr>\n",
       "    <tr>\n",
       "      <th>57549</th>\n",
       "      <td>6.0</td>\n",
       "      <td>29.99</td>\n",
       "      <td>1.0</td>\n",
       "      <td>0.0</td>\n",
       "      <td>1.0</td>\n",
       "      <td>0.0</td>\n",
       "      <td>0.0</td>\n",
       "      <td>1.0</td>\n",
       "      <td>1.0</td>\n",
       "      <td>0.0</td>\n",
       "      <td>...</td>\n",
       "      <td>0.0</td>\n",
       "      <td>0.0</td>\n",
       "      <td>0.0</td>\n",
       "      <td>0.0</td>\n",
       "      <td>1.0</td>\n",
       "      <td>0.0</td>\n",
       "      <td>1</td>\n",
       "      <td>0.0</td>\n",
       "      <td>0.0</td>\n",
       "      <td>0.0</td>\n",
       "    </tr>\n",
       "    <tr>\n",
       "      <th>57550</th>\n",
       "      <td>1.0</td>\n",
       "      <td>552.94</td>\n",
       "      <td>1.0</td>\n",
       "      <td>0.0</td>\n",
       "      <td>1.0</td>\n",
       "      <td>0.0</td>\n",
       "      <td>1.0</td>\n",
       "      <td>0.0</td>\n",
       "      <td>0.0</td>\n",
       "      <td>0.0</td>\n",
       "      <td>...</td>\n",
       "      <td>0.0</td>\n",
       "      <td>1.0</td>\n",
       "      <td>0.0</td>\n",
       "      <td>1.0</td>\n",
       "      <td>0.0</td>\n",
       "      <td>0.0</td>\n",
       "      <td>2</td>\n",
       "      <td>0.0</td>\n",
       "      <td>0.0</td>\n",
       "      <td>0.0</td>\n",
       "    </tr>\n",
       "    <tr>\n",
       "      <th>57551</th>\n",
       "      <td>1.0</td>\n",
       "      <td>472.82</td>\n",
       "      <td>0.0</td>\n",
       "      <td>1.0</td>\n",
       "      <td>0.0</td>\n",
       "      <td>0.0</td>\n",
       "      <td>1.0</td>\n",
       "      <td>0.0</td>\n",
       "      <td>0.0</td>\n",
       "      <td>0.0</td>\n",
       "      <td>...</td>\n",
       "      <td>1.0</td>\n",
       "      <td>0.0</td>\n",
       "      <td>0.0</td>\n",
       "      <td>0.0</td>\n",
       "      <td>0.0</td>\n",
       "      <td>1.0</td>\n",
       "      <td>1</td>\n",
       "      <td>0.0</td>\n",
       "      <td>0.0</td>\n",
       "      <td>0.0</td>\n",
       "    </tr>\n",
       "  </tbody>\n",
       "</table>\n",
       "<p>57552 rows × 22 columns</p>\n",
       "</div>"
      ],
      "text/plain": [
       "       recency  history  mens  womens  newbie  zip_code_Rural  \\\n",
       "0         10.0   142.44   1.0     0.0     0.0             0.0   \n",
       "1          7.0   180.65   0.0     1.0     1.0             0.0   \n",
       "2          9.0   675.83   1.0     0.0     1.0             1.0   \n",
       "3          2.0    45.34   1.0     0.0     0.0             0.0   \n",
       "4          6.0   134.83   0.0     1.0     0.0             0.0   \n",
       "...        ...      ...   ...     ...     ...             ...   \n",
       "57547     10.0   105.54   1.0     0.0     0.0             0.0   \n",
       "57548      5.0    38.91   0.0     1.0     1.0             0.0   \n",
       "57549      6.0    29.99   1.0     0.0     1.0             0.0   \n",
       "57550      1.0   552.94   1.0     0.0     1.0             0.0   \n",
       "57551      1.0   472.82   0.0     1.0     0.0             0.0   \n",
       "\n",
       "       zip_code_Surburban  zip_code_Urban  history_segment_$0 - $100  \\\n",
       "0                     1.0             0.0                        0.0   \n",
       "1                     1.0             0.0                        0.0   \n",
       "2                     0.0             0.0                        0.0   \n",
       "3                     0.0             1.0                        1.0   \n",
       "4                     1.0             0.0                        0.0   \n",
       "...                   ...             ...                        ...   \n",
       "57547                 0.0             1.0                        0.0   \n",
       "57548                 0.0             1.0                        1.0   \n",
       "57549                 0.0             1.0                        1.0   \n",
       "57550                 1.0             0.0                        0.0   \n",
       "57551                 1.0             0.0                        0.0   \n",
       "\n",
       "       history_segment_$1,000 +  ...  history_segment_$350 - $500  \\\n",
       "0                           0.0  ...                          0.0   \n",
       "1                           0.0  ...                          0.0   \n",
       "2                           0.0  ...                          0.0   \n",
       "3                           0.0  ...                          0.0   \n",
       "4                           0.0  ...                          0.0   \n",
       "...                         ...  ...                          ...   \n",
       "57547                       0.0  ...                          0.0   \n",
       "57548                       0.0  ...                          0.0   \n",
       "57549                       0.0  ...                          0.0   \n",
       "57550                       0.0  ...                          0.0   \n",
       "57551                       0.0  ...                          1.0   \n",
       "\n",
       "       history_segment_$500 - $750  history_segment_$750 - $1,000  \\\n",
       "0                              0.0                            0.0   \n",
       "1                              0.0                            0.0   \n",
       "2                              1.0                            0.0   \n",
       "3                              0.0                            0.0   \n",
       "4                              0.0                            0.0   \n",
       "...                            ...                            ...   \n",
       "57547                          0.0                            0.0   \n",
       "57548                          0.0                            0.0   \n",
       "57549                          0.0                            0.0   \n",
       "57550                          1.0                            0.0   \n",
       "57551                          0.0                            0.0   \n",
       "\n",
       "       channel_Multichannel  channel_Phone  channel_Web  treatment  \\\n",
       "0                       0.0            1.0          0.0          2   \n",
       "1                       0.0            0.0          1.0          2   \n",
       "2                       0.0            0.0          1.0          1   \n",
       "3                       0.0            0.0          1.0          2   \n",
       "4                       0.0            1.0          0.0          2   \n",
       "...                     ...            ...          ...        ...   \n",
       "57547                   0.0            0.0          1.0          1   \n",
       "57548                   0.0            1.0          0.0          1   \n",
       "57549                   0.0            1.0          0.0          1   \n",
       "57550                   1.0            0.0          0.0          2   \n",
       "57551                   0.0            0.0          1.0          1   \n",
       "\n",
       "       target_spend  target_visit  target_conversion  \n",
       "0               0.0           0.0                0.0  \n",
       "1               0.0           0.0                0.0  \n",
       "2               0.0           0.0                0.0  \n",
       "3               0.0           0.0                0.0  \n",
       "4               0.0           1.0                0.0  \n",
       "...             ...           ...                ...  \n",
       "57547           0.0           0.0                0.0  \n",
       "57548           0.0           0.0                0.0  \n",
       "57549           0.0           0.0                0.0  \n",
       "57550           0.0           0.0                0.0  \n",
       "57551           0.0           0.0                0.0  \n",
       "\n",
       "[57552 rows x 22 columns]"
      ]
     },
     "execution_count": 8,
     "metadata": {},
     "output_type": "execute_result"
    }
   ],
   "source": [
    "final_dataset"
   ]
  },
  {
   "cell_type": "code",
   "execution_count": null,
   "metadata": {
    "id": "esC6bkoVhHJP",
    "outputId": "493181af-ce2d-4c14-f773-ecfe1c74f112",
    "scrolled": true
   },
   "outputs": [
    {
     "data": {
      "text/html": [
       "<div>\n",
       "<style scoped>\n",
       "    .dataframe tbody tr th:only-of-type {\n",
       "        vertical-align: middle;\n",
       "    }\n",
       "\n",
       "    .dataframe tbody tr th {\n",
       "        vertical-align: top;\n",
       "    }\n",
       "\n",
       "    .dataframe thead th {\n",
       "        text-align: right;\n",
       "    }\n",
       "</style>\n",
       "<table border=\"1\" class=\"dataframe\">\n",
       "  <thead>\n",
       "    <tr style=\"text-align: right;\">\n",
       "      <th></th>\n",
       "      <th>recency</th>\n",
       "      <th>history</th>\n",
       "      <th>mens</th>\n",
       "      <th>womens</th>\n",
       "      <th>newbie</th>\n",
       "      <th>zip_code_Rural</th>\n",
       "      <th>zip_code_Surburban</th>\n",
       "      <th>zip_code_Urban</th>\n",
       "      <th>history_segment_$0 - $100</th>\n",
       "      <th>history_segment_$1,000 +</th>\n",
       "      <th>...</th>\n",
       "      <th>history_segment_$350 - $500</th>\n",
       "      <th>history_segment_$500 - $750</th>\n",
       "      <th>history_segment_$750 - $1,000</th>\n",
       "      <th>channel_Multichannel</th>\n",
       "      <th>channel_Phone</th>\n",
       "      <th>channel_Web</th>\n",
       "      <th>treatment</th>\n",
       "      <th>target_spend</th>\n",
       "      <th>target_visit</th>\n",
       "      <th>target_conversion</th>\n",
       "    </tr>\n",
       "  </thead>\n",
       "  <tbody>\n",
       "    <tr>\n",
       "      <th>0</th>\n",
       "      <td>10.0</td>\n",
       "      <td>142.44</td>\n",
       "      <td>1.0</td>\n",
       "      <td>0.0</td>\n",
       "      <td>0.0</td>\n",
       "      <td>0.0</td>\n",
       "      <td>1.0</td>\n",
       "      <td>0.0</td>\n",
       "      <td>0.0</td>\n",
       "      <td>0.0</td>\n",
       "      <td>...</td>\n",
       "      <td>0.0</td>\n",
       "      <td>0.0</td>\n",
       "      <td>0.0</td>\n",
       "      <td>0.0</td>\n",
       "      <td>1.0</td>\n",
       "      <td>0.0</td>\n",
       "      <td>2</td>\n",
       "      <td>0.0</td>\n",
       "      <td>0.0</td>\n",
       "      <td>0.0</td>\n",
       "    </tr>\n",
       "    <tr>\n",
       "      <th>2</th>\n",
       "      <td>7.0</td>\n",
       "      <td>180.65</td>\n",
       "      <td>0.0</td>\n",
       "      <td>1.0</td>\n",
       "      <td>1.0</td>\n",
       "      <td>0.0</td>\n",
       "      <td>1.0</td>\n",
       "      <td>0.0</td>\n",
       "      <td>0.0</td>\n",
       "      <td>0.0</td>\n",
       "      <td>...</td>\n",
       "      <td>0.0</td>\n",
       "      <td>0.0</td>\n",
       "      <td>0.0</td>\n",
       "      <td>0.0</td>\n",
       "      <td>0.0</td>\n",
       "      <td>1.0</td>\n",
       "      <td>2</td>\n",
       "      <td>0.0</td>\n",
       "      <td>0.0</td>\n",
       "      <td>0.0</td>\n",
       "    </tr>\n",
       "    <tr>\n",
       "      <th>3</th>\n",
       "      <td>9.0</td>\n",
       "      <td>675.83</td>\n",
       "      <td>1.0</td>\n",
       "      <td>0.0</td>\n",
       "      <td>1.0</td>\n",
       "      <td>1.0</td>\n",
       "      <td>0.0</td>\n",
       "      <td>0.0</td>\n",
       "      <td>0.0</td>\n",
       "      <td>0.0</td>\n",
       "      <td>...</td>\n",
       "      <td>0.0</td>\n",
       "      <td>1.0</td>\n",
       "      <td>0.0</td>\n",
       "      <td>0.0</td>\n",
       "      <td>0.0</td>\n",
       "      <td>1.0</td>\n",
       "      <td>1</td>\n",
       "      <td>0.0</td>\n",
       "      <td>0.0</td>\n",
       "      <td>0.0</td>\n",
       "    </tr>\n",
       "    <tr>\n",
       "      <th>4</th>\n",
       "      <td>2.0</td>\n",
       "      <td>45.34</td>\n",
       "      <td>1.0</td>\n",
       "      <td>0.0</td>\n",
       "      <td>0.0</td>\n",
       "      <td>0.0</td>\n",
       "      <td>0.0</td>\n",
       "      <td>1.0</td>\n",
       "      <td>1.0</td>\n",
       "      <td>0.0</td>\n",
       "      <td>...</td>\n",
       "      <td>0.0</td>\n",
       "      <td>0.0</td>\n",
       "      <td>0.0</td>\n",
       "      <td>0.0</td>\n",
       "      <td>0.0</td>\n",
       "      <td>1.0</td>\n",
       "      <td>2</td>\n",
       "      <td>0.0</td>\n",
       "      <td>0.0</td>\n",
       "      <td>0.0</td>\n",
       "    </tr>\n",
       "    <tr>\n",
       "      <th>5</th>\n",
       "      <td>6.0</td>\n",
       "      <td>134.83</td>\n",
       "      <td>0.0</td>\n",
       "      <td>1.0</td>\n",
       "      <td>0.0</td>\n",
       "      <td>0.0</td>\n",
       "      <td>1.0</td>\n",
       "      <td>0.0</td>\n",
       "      <td>0.0</td>\n",
       "      <td>0.0</td>\n",
       "      <td>...</td>\n",
       "      <td>0.0</td>\n",
       "      <td>0.0</td>\n",
       "      <td>0.0</td>\n",
       "      <td>0.0</td>\n",
       "      <td>1.0</td>\n",
       "      <td>0.0</td>\n",
       "      <td>2</td>\n",
       "      <td>0.0</td>\n",
       "      <td>1.0</td>\n",
       "      <td>0.0</td>\n",
       "    </tr>\n",
       "    <tr>\n",
       "      <th>...</th>\n",
       "      <td>...</td>\n",
       "      <td>...</td>\n",
       "      <td>...</td>\n",
       "      <td>...</td>\n",
       "      <td>...</td>\n",
       "      <td>...</td>\n",
       "      <td>...</td>\n",
       "      <td>...</td>\n",
       "      <td>...</td>\n",
       "      <td>...</td>\n",
       "      <td>...</td>\n",
       "      <td>...</td>\n",
       "      <td>...</td>\n",
       "      <td>...</td>\n",
       "      <td>...</td>\n",
       "      <td>...</td>\n",
       "      <td>...</td>\n",
       "      <td>...</td>\n",
       "      <td>...</td>\n",
       "      <td>...</td>\n",
       "      <td>...</td>\n",
       "    </tr>\n",
       "    <tr>\n",
       "      <th>63995</th>\n",
       "      <td>10.0</td>\n",
       "      <td>105.54</td>\n",
       "      <td>1.0</td>\n",
       "      <td>0.0</td>\n",
       "      <td>0.0</td>\n",
       "      <td>0.0</td>\n",
       "      <td>0.0</td>\n",
       "      <td>1.0</td>\n",
       "      <td>0.0</td>\n",
       "      <td>0.0</td>\n",
       "      <td>...</td>\n",
       "      <td>0.0</td>\n",
       "      <td>0.0</td>\n",
       "      <td>0.0</td>\n",
       "      <td>0.0</td>\n",
       "      <td>0.0</td>\n",
       "      <td>1.0</td>\n",
       "      <td>1</td>\n",
       "      <td>0.0</td>\n",
       "      <td>0.0</td>\n",
       "      <td>0.0</td>\n",
       "    </tr>\n",
       "    <tr>\n",
       "      <th>63996</th>\n",
       "      <td>5.0</td>\n",
       "      <td>38.91</td>\n",
       "      <td>0.0</td>\n",
       "      <td>1.0</td>\n",
       "      <td>1.0</td>\n",
       "      <td>0.0</td>\n",
       "      <td>0.0</td>\n",
       "      <td>1.0</td>\n",
       "      <td>1.0</td>\n",
       "      <td>0.0</td>\n",
       "      <td>...</td>\n",
       "      <td>0.0</td>\n",
       "      <td>0.0</td>\n",
       "      <td>0.0</td>\n",
       "      <td>0.0</td>\n",
       "      <td>1.0</td>\n",
       "      <td>0.0</td>\n",
       "      <td>1</td>\n",
       "      <td>0.0</td>\n",
       "      <td>0.0</td>\n",
       "      <td>0.0</td>\n",
       "    </tr>\n",
       "    <tr>\n",
       "      <th>63997</th>\n",
       "      <td>6.0</td>\n",
       "      <td>29.99</td>\n",
       "      <td>1.0</td>\n",
       "      <td>0.0</td>\n",
       "      <td>1.0</td>\n",
       "      <td>0.0</td>\n",
       "      <td>0.0</td>\n",
       "      <td>1.0</td>\n",
       "      <td>1.0</td>\n",
       "      <td>0.0</td>\n",
       "      <td>...</td>\n",
       "      <td>0.0</td>\n",
       "      <td>0.0</td>\n",
       "      <td>0.0</td>\n",
       "      <td>0.0</td>\n",
       "      <td>1.0</td>\n",
       "      <td>0.0</td>\n",
       "      <td>1</td>\n",
       "      <td>0.0</td>\n",
       "      <td>0.0</td>\n",
       "      <td>0.0</td>\n",
       "    </tr>\n",
       "    <tr>\n",
       "      <th>63998</th>\n",
       "      <td>1.0</td>\n",
       "      <td>552.94</td>\n",
       "      <td>1.0</td>\n",
       "      <td>0.0</td>\n",
       "      <td>1.0</td>\n",
       "      <td>0.0</td>\n",
       "      <td>1.0</td>\n",
       "      <td>0.0</td>\n",
       "      <td>0.0</td>\n",
       "      <td>0.0</td>\n",
       "      <td>...</td>\n",
       "      <td>0.0</td>\n",
       "      <td>1.0</td>\n",
       "      <td>0.0</td>\n",
       "      <td>1.0</td>\n",
       "      <td>0.0</td>\n",
       "      <td>0.0</td>\n",
       "      <td>2</td>\n",
       "      <td>0.0</td>\n",
       "      <td>0.0</td>\n",
       "      <td>0.0</td>\n",
       "    </tr>\n",
       "    <tr>\n",
       "      <th>63999</th>\n",
       "      <td>1.0</td>\n",
       "      <td>472.82</td>\n",
       "      <td>0.0</td>\n",
       "      <td>1.0</td>\n",
       "      <td>0.0</td>\n",
       "      <td>0.0</td>\n",
       "      <td>1.0</td>\n",
       "      <td>0.0</td>\n",
       "      <td>0.0</td>\n",
       "      <td>0.0</td>\n",
       "      <td>...</td>\n",
       "      <td>1.0</td>\n",
       "      <td>0.0</td>\n",
       "      <td>0.0</td>\n",
       "      <td>0.0</td>\n",
       "      <td>0.0</td>\n",
       "      <td>1.0</td>\n",
       "      <td>1</td>\n",
       "      <td>0.0</td>\n",
       "      <td>0.0</td>\n",
       "      <td>0.0</td>\n",
       "    </tr>\n",
       "  </tbody>\n",
       "</table>\n",
       "<p>57552 rows × 22 columns</p>\n",
       "</div>"
      ],
      "text/plain": [
       "       recency  history  mens  womens  newbie  zip_code_Rural  \\\n",
       "0         10.0   142.44   1.0     0.0     0.0             0.0   \n",
       "2          7.0   180.65   0.0     1.0     1.0             0.0   \n",
       "3          9.0   675.83   1.0     0.0     1.0             1.0   \n",
       "4          2.0    45.34   1.0     0.0     0.0             0.0   \n",
       "5          6.0   134.83   0.0     1.0     0.0             0.0   \n",
       "...        ...      ...   ...     ...     ...             ...   \n",
       "63995     10.0   105.54   1.0     0.0     0.0             0.0   \n",
       "63996      5.0    38.91   0.0     1.0     1.0             0.0   \n",
       "63997      6.0    29.99   1.0     0.0     1.0             0.0   \n",
       "63998      1.0   552.94   1.0     0.0     1.0             0.0   \n",
       "63999      1.0   472.82   0.0     1.0     0.0             0.0   \n",
       "\n",
       "       zip_code_Surburban  zip_code_Urban  history_segment_$0 - $100  \\\n",
       "0                     1.0             0.0                        0.0   \n",
       "2                     1.0             0.0                        0.0   \n",
       "3                     0.0             0.0                        0.0   \n",
       "4                     0.0             1.0                        1.0   \n",
       "5                     1.0             0.0                        0.0   \n",
       "...                   ...             ...                        ...   \n",
       "63995                 0.0             1.0                        0.0   \n",
       "63996                 0.0             1.0                        1.0   \n",
       "63997                 0.0             1.0                        1.0   \n",
       "63998                 1.0             0.0                        0.0   \n",
       "63999                 1.0             0.0                        0.0   \n",
       "\n",
       "       history_segment_$1,000 +  ...  history_segment_$350 - $500  \\\n",
       "0                           0.0  ...                          0.0   \n",
       "2                           0.0  ...                          0.0   \n",
       "3                           0.0  ...                          0.0   \n",
       "4                           0.0  ...                          0.0   \n",
       "5                           0.0  ...                          0.0   \n",
       "...                         ...  ...                          ...   \n",
       "63995                       0.0  ...                          0.0   \n",
       "63996                       0.0  ...                          0.0   \n",
       "63997                       0.0  ...                          0.0   \n",
       "63998                       0.0  ...                          0.0   \n",
       "63999                       0.0  ...                          1.0   \n",
       "\n",
       "       history_segment_$500 - $750  history_segment_$750 - $1,000  \\\n",
       "0                              0.0                            0.0   \n",
       "2                              0.0                            0.0   \n",
       "3                              1.0                            0.0   \n",
       "4                              0.0                            0.0   \n",
       "5                              0.0                            0.0   \n",
       "...                            ...                            ...   \n",
       "63995                          0.0                            0.0   \n",
       "63996                          0.0                            0.0   \n",
       "63997                          0.0                            0.0   \n",
       "63998                          1.0                            0.0   \n",
       "63999                          0.0                            0.0   \n",
       "\n",
       "       channel_Multichannel  channel_Phone  channel_Web  treatment  \\\n",
       "0                       0.0            1.0          0.0          2   \n",
       "2                       0.0            0.0          1.0          2   \n",
       "3                       0.0            0.0          1.0          1   \n",
       "4                       0.0            0.0          1.0          2   \n",
       "5                       0.0            1.0          0.0          2   \n",
       "...                     ...            ...          ...        ...   \n",
       "63995                   0.0            0.0          1.0          1   \n",
       "63996                   0.0            1.0          0.0          1   \n",
       "63997                   0.0            1.0          0.0          1   \n",
       "63998                   1.0            0.0          0.0          2   \n",
       "63999                   0.0            0.0          1.0          1   \n",
       "\n",
       "       target_spend  target_visit  target_conversion  \n",
       "0               0.0           0.0                0.0  \n",
       "2               0.0           0.0                0.0  \n",
       "3               0.0           0.0                0.0  \n",
       "4               0.0           0.0                0.0  \n",
       "5               0.0           1.0                0.0  \n",
       "...             ...           ...                ...  \n",
       "63995           0.0           0.0                0.0  \n",
       "63996           0.0           0.0                0.0  \n",
       "63997           0.0           0.0                0.0  \n",
       "63998           0.0           0.0                0.0  \n",
       "63999           0.0           0.0                0.0  \n",
       "\n",
       "[57552 rows x 22 columns]"
      ]
     },
     "execution_count": 9,
     "metadata": {},
     "output_type": "execute_result"
    }
   ],
   "source": [
    "dataset"
   ]
  },
  {
   "cell_type": "code",
   "execution_count": null,
   "metadata": {
    "id": "NIFrVPczhHJQ",
    "outputId": "8fc7327d-ea8e-4d16-e886-b0c5a0ada7b8"
   },
   "outputs": [
    {
     "data": {
      "text/plain": [
       "57552"
      ]
     },
     "execution_count": 10,
     "metadata": {},
     "output_type": "execute_result"
    }
   ],
   "source": [
    "len(final_dataset)"
   ]
  },
  {
   "cell_type": "markdown",
   "metadata": {
    "id": "L0Avzm5khHJQ"
   },
   "source": [
    "## EDA"
   ]
  },
  {
   "cell_type": "markdown",
   "metadata": {
    "id": "JG6ajTi5hHJQ"
   },
   "source": [
    "**분포**"
   ]
  },
  {
   "cell_type": "code",
   "execution_count": null,
   "metadata": {
    "id": "ndl10xX6hHJQ",
    "outputId": "c195a897-4f6f-4315-d0af-f907d7ad88fe"
   },
   "outputs": [
    {
     "name": "stderr",
     "output_type": "stream",
     "text": [
      "<ipython-input-11-ca557713cbcc>:27: MatplotlibDeprecationWarning: normalize=None does not normalize if the sum is less than 1 but this behavior is deprecated since 3.3 until two minor releases later. After the deprecation period the default value will be normalize=True. To prevent normalization pass normalize=False \n",
      "  axes[i][j].pie(ratio_lst,labels=label,autopct='%.1f%%',startangle=260,counterclock=False,\n"
     ]
    },
    {
     "data": {
      "image/png": "[encoded data removed]",
      "text/plain": [
       "<Figure size 1080x720 with 4 Axes>"
      ]
     },
     "metadata": {},
     "output_type": "display_data"
    }
   ],
   "source": [
    "zip_code = ['zip_code_Rural','zip_code_Surburban','zip_code_Urban']\n",
    "segment = ['history_segment_$0 - $100',\n",
    "       'history_segment_$1,000 +', 'history_segment_$100 - $200',\n",
    "       'history_segment_$200 - $350', 'history_segment_$350 - $500',\n",
    "       'history_segment_$500 - $750', 'history_segment_$750 - $1,000']\n",
    "\n",
    "channel = ['channel_Multichannel', 'channel_Phone', 'channel_Web']\n",
    "sex = ['mens', 'womens']\n",
    "\n",
    "pie_lst = [zip_code,segment,channel,sex]\n",
    "pie_title = ['zip_code','segment','channel','sex']\n",
    "\n",
    "def get_pie_info(df,col):\n",
    "    ratio_lst = []\n",
    "    for i in col:\n",
    "        ratio = round(np.sum(df[i]/len(df)),2)\n",
    "        ratio_lst.append(ratio)\n",
    "    label = col\n",
    "    return ratio_lst,label\n",
    "    \n",
    "fig, axes = plt.subplots(2, 2, figsize = (15, 10))\n",
    "\n",
    "for num in range(4):\n",
    "    i = num//2\n",
    "    j = num%2\n",
    "    ratio_lst,label = get_pie_info(final_dataset,pie_lst[num])\n",
    "    axes[i][j].pie(ratio_lst,labels=label,autopct='%.1f%%',startangle=260,counterclock=False,\n",
    "       shadow = True, colors = ['lightblue','lightgreen','#ff9999',\n",
    "                                '#ffc000','#8fd9b6','#d395d0','lavender'])\n",
    "    axes[i][j].set_title(pie_title[num])\n",
    "\n",
    "plt.subplots_adjust(wspace=1)\n",
    "plt.show()"
   ]
  },
  {
   "cell_type": "code",
   "execution_count": null,
   "metadata": {
    "id": "LJFmpvj0hHJQ",
    "outputId": "d6959726-5663-492d-92f9-d736513b8b51"
   },
   "outputs": [
    {
     "data": {
      "text/plain": [
       "<AxesSubplot:xlabel='newbie', ylabel='count'>"
      ]
     },
     "execution_count": 12,
     "metadata": {},
     "output_type": "execute_result"
    },
    {
     "data": {
      "image/png": "[encoded data removed]",
      "text/plain": [
       "<Figure size 432x288 with 1 Axes>"
      ]
     },
     "metadata": {
      "needs_background": "light"
     },
     "output_type": "display_data"
    }
   ],
   "source": [
    "sns.countplot(x='newbie', data=final_dataset)"
   ]
  },
  {
   "cell_type": "code",
   "execution_count": null,
   "metadata": {
    "id": "Yun2quGMhHJQ",
    "outputId": "51f80303-247c-4b83-af0b-dc47aba4d452"
   },
   "outputs": [
    {
     "data": {
      "text/plain": [
       "<AxesSubplot:xlabel='recency', ylabel='count'>"
      ]
     },
     "execution_count": 13,
     "metadata": {},
     "output_type": "execute_result"
    },
    {
     "data": {
      "image/png": "[encoded data removed]",
      "text/plain": [
       "<Figure size 432x288 with 1 Axes>"
      ]
     },
     "metadata": {
      "needs_background": "light"
     },
     "output_type": "display_data"
    }
   ],
   "source": [
    "sns.countplot(x=\"recency\",data=final_dataset)"
   ]
  },
  {
   "cell_type": "code",
   "execution_count": null,
   "metadata": {
    "id": "RQ6vB4qohHJQ",
    "outputId": "78233c1c-970e-40d0-84d9-f41dc086b4eb"
   },
   "outputs": [
    {
     "data": {
      "text/plain": [
       "<seaborn.axisgrid.FacetGrid at 0x7f9c58c11550>"
      ]
     },
     "execution_count": 14,
     "metadata": {},
     "output_type": "execute_result"
    },
    {
     "data": {
      "image/png": "[encoded data removed]",
      "text/plain": [
       "<Figure size 360x360 with 1 Axes>"
      ]
     },
     "metadata": {
      "needs_background": "light"
     },
     "output_type": "display_data"
    }
   ],
   "source": [
    "sns.displot(x=\"history\",data=final_dataset, bins=50)"
   ]
  },
  {
   "cell_type": "code",
   "execution_count": null,
   "metadata": {
    "id": "Y3TWOcfThHJQ",
    "outputId": "ad4fbb11-d19d-4e42-87b6-f3087bdef0c3",
    "scrolled": true
   },
   "outputs": [
    {
     "data": {
      "image/png": "[encoded data removed]",
      "text/plain": [
       "<Figure size 432x288 with 1 Axes>"
      ]
     },
     "metadata": {},
     "output_type": "display_data"
    }
   ],
   "source": [
    "ratio_lst = []\n",
    "ratio_1 = round(dataset['treatment'].value_counts()[1]/len(final_dataset),2)\n",
    "ratio_2 = round(dataset['treatment'].value_counts()[2]/len(final_dataset),2)\n",
    "ratio_lst.append(ratio_1)\n",
    "ratio_lst.append(ratio_2)\n",
    "ratio_lst.append(1-ratio_1-ratio_2)\n",
    "\n",
    "plt.pie(ratio_lst,labels=['male_treatment','female_treatment','control'],autopct='%.1f%%',startangle=260,counterclock=False,\n",
    "       shadow = True, colors = ['lightblue','lightgreen','pink'])\n",
    "plt.show()"
   ]
  },
  {
   "cell_type": "markdown",
   "metadata": {
    "id": "TSADnGRihHJR"
   },
   "source": [
    "**각 처치(Treatment당 target들의 값들이 어떻게 변했는지 막대그래프를 통해 알아보도록 하자** <br>\n",
    "Treatment : 처치 <br>\n",
    "(1: 남성용 상품에 대한 광고가 적힌 이메일을 받은 집단 / 2: 여성용 상품에 대한 광고가 적힌 이메일을 받은 집단 / 0: 아무런 광고를 받지 못한 집단(Control Group))"
   ]
  },
  {
   "cell_type": "markdown",
   "metadata": {
    "id": "Yaj4o7_whHJR"
   },
   "source": [
    "# Modeling"
   ]
  },
  {
   "cell_type": "markdown",
   "metadata": {
    "id": "ujS1QeO6hHJJ"
   },
   "source": [
    "**위 EDA에서 알 수 있듯, 데이터 셋 내의 각 집단의 분포가 모두 동일하게 나타나고 있습니다!**<br>\n",
    "**이 경우 이 데이터 셋은 random Clinical Trial(랜덤 실험)으로 진행되어 각 집단이 Homogeneous(균일) 성질을 만족하는 것을 알수 있습니다**\n",
    "\n",
    "1. 각 처치(Treatment)와 그에 대한 Target 변수들이 독립임을 알 수 있고,\n",
    "2. 0<P(Z=1|X)<1 을 만족함을 알 수 있습니다. <br> (이 의미는 Feature가 주어졌을 때 처치가 어느 한쪽으로 치우쳐져 있지 않음을 의미합니다. <br> 즉, 남성(men=1) 모두에게 처치가 가해져 있지 않다. 데이터셋 내 집단에게 균등하게 처치가 이루어 졌다. 이런 식으로 이해하면 될 것 같습니다.)\n",
    "\n",
    "이 __두가지 조건__ 을 만족하면 우리는 Strong Ignorability Assumption이 만족하였다고 합니다.<br>\n",
    "이 것을 만족한다면 일반적인 상관관계를 통해서도 인과관계를 추론할 수 있게 됩니다.<br>\n",
    "또한 단순 집단 간의 평균의 차이를 구해 처치(Treatment)가 어떠한 차이를 만들어내는지 계산할 수 있게 됩니다.\n",
    "<br>\n",
    "하지만 만일 위의 조건이 만족하지 않는다면, 처치(Treatment)와 결과(Target)에 모두 영향을 주는 교란변수(Confounder)를 도메인 지식으로 찾아내야 합니다. 가령 아래 데이터 셋으로 예를 들면 History가 높은 사람에게는 광고 메일을 보내지 않았고, Recency가 오래된 고객들에게는 광고 메일을 보낸 분포가 나왔다면 History와 Recency가 교란 변수가 되고, 이 교란변수를 조건부로 하여 교란변수의 효과를 상쇄시킨 뒤 차이를 계산하는 CATE(Conditional Average Treatment Estimation)을 진행해야 하며 이 과정은 꽤나 복잡합니다. \n",
    "<br>이는 Heterogeneous한 집단에서 인과관계를 추론하는 방식이며 저희 데이터셋은 Homogeneous하므로 해당은 되지 않습니다. \n",
    "<br>\n",
    "CATE를 추정하는 방식을 간략하게 설명하면 다음과 같습니다. \n",
    "\n",
    "1. Counfounders를 찾아낸 뒤 이를 조건부로 하여 처치(Treatment)를 받을 확률을 계산합니다. <br> (P(Z=1|X) where Z : Treatment, X : Confounders)\n",
    "2. 우리는 이를 Propensity Score(경향성 점수)라고 합니다. 경향성 점수를 사용하는 이유는 교란변수를 조건부로 두었기에 교란변수의 영향을 상쇄시킬 수 있기 때문입니다. \n",
    "3. 또한, Propensity Score를 input으로 하고, 우리가 관측한 결과(여기에서는 Target값들 즉, Target visit, spend, Conversion이 됩니다.)를 Target으로 하는 Response Function을 추정합니다. \n",
    "4. 이 때 머신러닝 알고리즘이 사용됩니다. 주로 트리 기반으로 분류 알고리즘인 XGBoost, LightGBM, RandomForest 등이 사용되며 적용되는 방법은 3가지가 있습니다 <br>\n",
    "<ul>\n",
    "<li>T-Learner : Two-model method라고 불리며, treatment를 받은 집단과 그렇지 않은 집단을 다른 모델로 학습하여 각각의 Treatment Effect를 계산하여 그 차이를 계산합니다.</li>\n",
    "<li>S-Learner : One -model method라고 불리며, 하나의 모델로 학습을 한 뒤 treatment를 받은 집단과 그렇지 않은 집단으로 나누어 Treatment Effect를 계산하여 그 차이를 계산합니다. </li>\n",
    "<li>X-Learner : Two-model로 우선 학습을 한 뒤 treatment를 받은 집단과 그렇지 않은 집단을 Cross하여 결과를 예측하여 가상의 예측값을 추론합니다. 그리고 개개인의 Treatment Effect를 계산하여 그 차이를 평균하여 CATE를 계산합니다.</li>\n",
    "</ul><br>\n",
    "5. 우리는 이 과정을 통해 동질하지 않은 집단에서 광고가 효과가 있었는지 그 효과를 추정한다고 합니다\n",
    "6. 즉. 우리 데이터셋은 랜덤실험을 만족하는 Homogeneous한 셋이기 때문에 위 과정을 거치지 않고 평균의 차이를 계산하여 광고의 효과를 알아낼 수 있습니다. <br> 다만 ATE 적용 후, S-Learner과 유사하게 하나의 머신러닝 알고리즘 모델로 학습해서 Treatment를 받은 집단과 그렇지 않은 집단을 나눠 광고 집행(Treatment) 효과를 알아볼 예정입니다. \n",
    "\n",
    "<참조 : Metalearners for estimating heterogeneous treatment effects using machine learning (Sören R. Künzel , Jasjeet S. Sekhon , Peter J. Bickel , Bin Yu. 2019)>"
   ]
  },
  {
   "cell_type": "markdown",
   "metadata": {
    "id": "RLnGhBFMhHJR"
   },
   "source": [
    "## ATE(Average Treatment Estimation)"
   ]
  },
  {
   "cell_type": "markdown",
   "metadata": {
    "id": "G69NvObohHJR"
   },
   "source": [
    "간단하게 설명하면, 광고를 보여줬을 때와 그렇지 않았을 때 광고의 효과를 계산하는데 있어서 가장 좋은 방법은 같은 사람에게 광고를 보여주기도 하고, 보여주지도 않은 채 각각의 개인들의 차이를 계산하는 것입니다. 그러나 이는 현실적으로 불가능하므로, 각각의 집단의 평균을 계산하여 차이를 통해 광고의 효과를 알아보게 됩니다. \n",
    "\n",
    "이때 중요한 점은 Random하게 집단을 나누어 Treatment(여기서는 광고)를 처치하는 것입니다. 그렇지 않으면 교란변수가 작용하여 결과를 신뢰하지 못하게 됩니다. 데이터셋 설명에 Random하게 집단을 구분하였다고 명시하였기에 교란변수의 작용은 생각하지 않겠습니다.\n",
    "\n",
    "광고를 받은 집단(Treatment = 1,2)과 그렇지 않은 집단(Treatment = 0)의 conversion된 소비 지출의 평균의 차이를 계산합니다. 그리고 그 차이를 ATE라고 합니다.\n",
    "\n",
    "이 차이가 통계적으로 유의미한지 안한지는 일단 논의하지 않는 것으로 하겠습니다.\n",
    "\n",
    "<br>\n",
    "\n",
    "**먼저 바플롯을 이용해 각 성별당 구매 전환율을 확인해보고 ATE를 계산하여 그 수치를 비교해보도록 하겠습니다**"
   ]
  },
  {
   "cell_type": "code",
   "execution_count": null,
   "metadata": {
    "id": "jK8KmdiuhHJR",
    "outputId": "529da9a3-4d29-4ea5-83e4-a94bf1cf0cbb",
    "scrolled": true
   },
   "outputs": [
    {
     "data": {
      "text/plain": [
       "<AxesSubplot:xlabel='mens', ylabel='target_conversion'>"
      ]
     },
     "execution_count": 16,
     "metadata": {},
     "output_type": "execute_result"
    },
    {
     "data": {
      "image/png": "[encoded data removed]",
      "text/plain": [
       "<Figure size 432x288 with 1 Axes>"
      ]
     },
     "metadata": {
      "needs_background": "light"
     },
     "output_type": "display_data"
    }
   ],
   "source": [
    "sns.barplot(x = 'mens', y = 'target_conversion', data = final_dataset)"
   ]
  },
  {
   "cell_type": "code",
   "execution_count": null,
   "metadata": {
    "id": "eOMvX2u7hHJR",
    "outputId": "edf3fe15-77fe-472d-aafb-956c658998a3"
   },
   "outputs": [
    {
     "data": {
      "text/plain": [
       "<AxesSubplot:xlabel='womens', ylabel='target_conversion'>"
      ]
     },
     "execution_count": 17,
     "metadata": {},
     "output_type": "execute_result"
    },
    {
     "data": {
      "image/png": "[encoded data removed]",
      "text/plain": [
       "<Figure size 432x288 with 1 Axes>"
      ]
     },
     "metadata": {
      "needs_background": "light"
     },
     "output_type": "display_data"
    }
   ],
   "source": [
    "sns.barplot(x = 'womens', y = 'target_conversion', data = final_dataset)"
   ]
  },
  {
   "cell_type": "markdown",
   "metadata": {
    "id": "k-jUJT5DhHJR"
   },
   "source": [
    "__시각화 결과 남성보다 여자의 경우 구매 전환율(1) 비중이 더 높은 것이 확인되었다.__"
   ]
  },
  {
   "cell_type": "code",
   "execution_count": null,
   "metadata": {
    "id": "nl4GL002hHJR",
    "outputId": "a2a35499-34f9-457a-f7fe-6a14c0d39ddf",
    "scrolled": false
   },
   "outputs": [
    {
     "data": {
      "text/plain": [
       "<AxesSubplot:xlabel='treatment', ylabel='target_conversion'>"
      ]
     },
     "execution_count": 18,
     "metadata": {},
     "output_type": "execute_result"
    },
    {
     "data": {
      "image/png": "[encoded data removed]",
      "text/plain": [
       "<Figure size 432x288 with 1 Axes>"
      ]
     },
     "metadata": {
      "needs_background": "light"
     },
     "output_type": "display_data"
    }
   ],
   "source": [
    "sns.barplot(x = 'treatment', y = 'target_conversion', data = final_dataset)"
   ]
  },
  {
   "cell_type": "code",
   "execution_count": null,
   "metadata": {
    "id": "zLtucHrEhHJR",
    "outputId": "0cf7ed3e-f4f7-429e-dc62-d18082f2591a",
    "scrolled": true
   },
   "outputs": [
    {
     "data": {
      "text/plain": [
       "<AxesSubplot:xlabel='treatment', ylabel='target_spend'>"
      ]
     },
     "execution_count": 19,
     "metadata": {},
     "output_type": "execute_result"
    },
    {
     "data": {
      "image/png": "[encoded data removed]",
      "text/plain": [
       "<Figure size 432x288 with 1 Axes>"
      ]
     },
     "metadata": {
      "needs_background": "light"
     },
     "output_type": "display_data"
    }
   ],
   "source": [
    "sns.barplot(x = 'treatment', y = 'target_spend', data = final_dataset)"
   ]
  },
  {
   "cell_type": "code",
   "execution_count": null,
   "metadata": {
    "id": "kRtsHsokhHJR",
    "outputId": "e4d14451-f50f-4c4f-edc6-02b2f2fe4529",
    "scrolled": true
   },
   "outputs": [
    {
     "data": {
      "text/plain": [
       "<AxesSubplot:xlabel='treatment', ylabel='target_visit'>"
      ]
     },
     "execution_count": 20,
     "metadata": {},
     "output_type": "execute_result"
    },
    {
     "data": {
      "image/png": "[encoded data removed]",
      "text/plain": [
       "<Figure size 432x288 with 1 Axes>"
      ]
     },
     "metadata": {
      "needs_background": "light"
     },
     "output_type": "display_data"
    }
   ],
   "source": [
    "sns.barplot(x = 'treatment', y = 'target_visit', data = final_dataset)"
   ]
  },
  {
   "cell_type": "markdown",
   "metadata": {
    "id": "JyjATf0UhHJR"
   },
   "source": [
    "ATE를 적용하지 않은 데이터에 시각화를 한 결과 처치(1: 남성 용품)의 경우가 여성용품(Treatment:2)보다 <br>\n",
    "광고 시 더 높은 구매 전환율, 소비금액, 방문율을 보여주는 것을 알 수 있습니다. <br>\n",
    "그렇다면 ATE를 적용 후 산출된 수치로 비교해보도록 하겠습니다"
   ]
  },
  {
   "cell_type": "code",
   "execution_count": null,
   "metadata": {
    "id": "8lCHQfW6hHJR"
   },
   "outputs": [],
   "source": [
    "def cal_uplift(df):\n",
    "    # 광고를 받은 집단과 그렇지 않은 집단 간의 물품구매가 있었냐 없었냐의 차이를 계산합니다.\n",
    "    # 각 처치에 해당하는 구매 전환 수를 계산 (합계)\n",
    "    male_conv = df[df.treatment == 1]['target_conversion'].sum()\n",
    "    female_conv = df[df.treatment == 2]['target_conversion'].sum()\n",
    "    control_conv = df[df.treatment == 0]['target_conversion'].sum()\n",
    "    \n",
    "    # 이후 계산을 위해 평균을 계산합니다.\n",
    "    male_conv_mean = df[df.treatment == 1]['target_conversion'].mean()\n",
    "    female_conv_mean = df[df.treatment == 2]['target_conversion'].mean()\n",
    "    control_conv_mean = df[df.treatment == 0]['target_conversion'].mean()\n",
    "    \n",
    "    # 차이 계산(횟수)\n",
    "    # ate 계산 : 실험군 평균 - 통제 변수(처치를 받지 못한) 평균 \n",
    "    male_conv_ate = male_conv_mean - control_conv_mean\n",
    "    female_conv_ate = female_conv_mean - control_conv_mean\n",
    "    \n",
    "    # 평균의 차이 계산(이는 광고를 받은 집단이 평균적으로 얼마나 더 많이 샀냐를 표현하는 지표입니다)\n",
    "    # 위에 거랑 똑같은 거 \n",
    "    male_conv_mean = male_conv_mean - control_conv_mean\n",
    "    female_conv_mean = female_conv_mean - control_conv_mean\n",
    "    \n",
    "    # 광고를 받은 집단과 그렇지 않은 집단 간의 사이트 방문횟수의 차이를 계산합니다.\n",
    "    # 방문 수에 대한 평균의 합산을 계산합니다. \n",
    "    male_visit = df[df.treatment == 1]['target_visit'].mean()\n",
    "    female_visit = df[df.treatment == 2]['target_visit'].mean()\n",
    "    control_visit = df[df.treatment == 0]['target_visit'].mean()\n",
    "    \n",
    "    # ate 계산 실험군 평균 - 통제 변수 평균 \n",
    "    male_visit_ate = male_visit - control_visit\n",
    "    female_visit_ate = female_visit - control_visit\n",
    "    \n",
    "\n",
    "    # (남성/여성) 평균 전환량 차이 (ate) * (남성/여성) 상품 전환량\n",
    "    \n",
    "    male_order = male_conv_mean*len(df[df.treatment == 1]['target_conversion'])\n",
    "    female_order = female_conv_mean*len(df[df.treatment == 2]['target_conversion'])\n",
    "    \n",
    "    # 평균 타겟 소비량 평균 \n",
    "    male_avg_spend = df[df.treatment==1]['target_spend'].mean()\n",
    "    female_avg_spend = df[df.treatment==2]['target_spend'].mean()\n",
    "    \n",
    "    # 각 집단에 속한 사람들의 평균 Conversion의 차이에 각 집단이 속한 사람들이 평균적으로 \n",
    "    # 지출한 금액을 곱해 광고를 받은 집단이 얼마나 더 많은 지출을 하였는지 계산합니다.\n",
    "    \n",
    "    male_spend_ate = male_order*male_avg_spend\n",
    "    female_spend_ate = female_order*female_avg_spend\n",
    "    \n",
    "    print(f\"Male E-mail Conversion ATE : {male_conv_ate:.03f}\")\n",
    "    print(f\"Male E-mail Visit ATE : {male_visit_ate :.03f}\")\n",
    "    print(f\"Male E-mail Spend ATE : ${male_spend_ate :.03f}\")\n",
    "    \n",
    "    print(\"---------------------------------------------------------------\")\n",
    "\n",
    "    print(f\"Female E-mail Conversion ATE : {female_conv_ate:.03f}\")\n",
    "    print(f\"Female E-mail Visit ATE : {female_visit_ate :.03f}\")\n",
    "    print(f\"Female E-mail Spend ATE : ${female_spend_ate :.03f}\")"
   ]
  },
  {
   "cell_type": "code",
   "execution_count": null,
   "metadata": {
    "id": "7u1cwObHhHJS",
    "outputId": "6dc6b353-2e31-4d15-ad0f-ac535362432a"
   },
   "outputs": [
    {
     "name": "stdout",
     "output_type": "stream",
     "text": [
      "Male E-mail Conversion ATE : 0.006\n",
      "Male E-mail Visit ATE : 0.070\n",
      "Male E-mail Spend ATE : $139.327\n",
      "---------------------------------------------------------------\n",
      "Female E-mail Conversion ATE : 0.003\n",
      "Female E-mail Visit ATE : 0.043\n",
      "Female E-mail Spend ATE : $58.068\n"
     ]
    }
   ],
   "source": [
    "cal_uplift(final_dataset)"
   ]
  },
  {
   "cell_type": "markdown",
   "metadata": {
    "id": "E4nIC_gBhHJS"
   },
   "source": [
    "결과를 해석하자면 남성상품에 대한 광고를 받은 집단은 아무런 광고를 받지 않은 집단보다 광고된 상품을 평균적으로 0.6% 더 많이 구매를 하였고, 7%정도 더 많이 사이트에 방문하였으며, 139.327달러를 더 많이 지출한 것을 의미합니다.\n",
    "\n",
    "여성상품에 대한 광고를 받은 집단 역시 그렇지 않은 집단보다 광고된 상품을 0.3% 더 많이 구매하였고, 4.256% 정도 더 많이 사이트에 방문하였으며, 58달러를 더 많이 지출한 것을 의미합니다.\n",
    "\n",
    "시각화와 ATE 결과를 통해 광고 전 단순 각 성별 집단 내 구매전환율 비중이 높다고 소비 금액이 높은 것이 아니며 남성의 경우 광고의 효과가 더 높은 것을 확인할 수 있었습니다."
   ]
  },
  {
   "cell_type": "markdown",
   "metadata": {
    "id": "P2geMQ0yhHJS"
   },
   "source": [
    "## Multi-Classification Model for Predicting the Uplift Score"
   ]
  },
  {
   "cell_type": "markdown",
   "metadata": {
    "id": "2WDNpLFthHJS"
   },
   "source": [
    "이제 customer segmentation을 할 차례입니다. \n",
    "\n",
    "우선 고객을 4가지 범주로 Label encoding하게 됩니다.\n",
    "\n",
    "\n",
    "1. 광고를 받았고, 광고된 상품을 구매한 고객 - 0\n",
    "2. 광고를 받았으나 광고된 상품을 구매하지 않는 고객 - 1\n",
    "3. 광고를 받지 않았고, 광고된 상품을 구매한 고객 - 2\n",
    "4. 광고를 받지 않았고, 광고된 상품을 구매하지 않은 고객 - 3\n",
    "\n",
    "\n",
    "논의의 편의를 위해 Male,Female 상품에 대한 광고를 받은 사람을 1로 묶고, 그렇지 않은 사람들을 0으로 묶겠습니다. <br>이때 두 집단 간의 비율의 차이가 발생하지만 이는 무시하겠습니다."
   ]
  },
  {
   "cell_type": "markdown",
   "metadata": {
    "id": "A4DbEcu_hHJS"
   },
   "source": [
    "우리가 사용하게 될 모델은 Uplift Modeling으로 Uplift Score를 산출하여 고객을 Segmentation하는 방식입니다.\n",
    "\n",
    "**Uplift Score = P(Persuadables) + P(Lost Caues) - P(Sure things) - P(sleeping dogs)** 이며,<br>\n",
    "직관적인 설명은 광고를 진행하였을 때 구매를 진행할 확률에서 광고를 진행하지 않아도 살 확률과 광고를 진행해도 매몰되는 소비자군일 확률을 차감한 것입니다. <br>-1에서 1사이로 측정되며 그 값이 클수록 광고효과가 큰 고객이 됩니다\n",
    "\n",
    "Reference : Radcliffe, N.. “Using control groups to target on predicted lift: Building and assessing uplift model.” (2007)."
   ]
  },
  {
   "cell_type": "markdown",
   "metadata": {
    "id": "EzioT-uahHJS"
   },
   "source": [
    "**광고가 효과가 있냐 없냐를 보는 것**"
   ]
  },
  {
   "cell_type": "code",
   "execution_count": null,
   "metadata": {
    "id": "9iPsc1DKhHJS"
   },
   "outputs": [],
   "source": [
    "classify_dataset = dataset.copy()\n",
    "# classify dataset 객체를 만든다.\n",
    "classify_dataset['treatment'] = classify_dataset['treatment'].apply(lambda x : 1 if (x==1 or x==2) else 0)\n",
    "# 처치(1 or 2)를 받으면 1로 나머지는 0으로 스케일링  "
   ]
  },
  {
   "cell_type": "markdown",
   "metadata": {
    "id": "z1R2DqehhHJS"
   },
   "source": [
    "Class Column 생성 \n",
    "<ul>\n",
    "    \n",
    "<li>처치군 - > 구매 전환 : 0</li>\n",
    "<li>처치군 - > 구매 전환 X : 1</li>\n",
    "<li>통제군 -> 구매 전환 : 2</li>\n",
    "<li>통제군 -> 구매 전환 X : 3</li>\n",
    "    \n",
    "</ul>"
   ]
  },
  {
   "cell_type": "code",
   "execution_count": null,
   "metadata": {
    "id": "R-jJ6BKahHJS"
   },
   "outputs": [],
   "source": [
    "label_lst = []\n",
    "\n",
    "\n",
    "\n",
    "for i in range(len(classify_dataset)):\n",
    "    if (classify_dataset['treatment'].iloc[i] == 1 and classify_dataset['target_conversion'].iloc[i] == 1):\n",
    "        label_lst.append(0)\n",
    "    elif (classify_dataset['treatment'].iloc[i] == 1 and classify_dataset['target_conversion'].iloc[i] == 0):\n",
    "        label_lst.append(1)\n",
    "    elif (classify_dataset['treatment'].iloc[i] == 0 and classify_dataset['target_conversion'].iloc[i] == 1):\n",
    "        label_lst.append(2)\n",
    "    elif (classify_dataset['treatment'].iloc[i] == 0 and classify_dataset['target_conversion'].iloc[i] == 0):\n",
    "        label_lst.append(3)\n",
    "        \n",
    "classify_dataset['Class'] = label_lst"
   ]
  },
  {
   "cell_type": "code",
   "execution_count": null,
   "metadata": {
    "id": "oP6Vx7N4hHJS",
    "outputId": "8c468568-f924-4e44-9b52-444d908681b1"
   },
   "outputs": [
    {
     "data": {
      "text/plain": [
       "1    38023\n",
       "3    19055\n",
       "0      372\n",
       "2      102\n",
       "Name: Class, dtype: int64"
      ]
     },
     "execution_count": 25,
     "metadata": {},
     "output_type": "execute_result"
    }
   ],
   "source": [
    "classify_dataset['Class'].value_counts()"
   ]
  },
  {
   "cell_type": "code",
   "execution_count": null,
   "metadata": {
    "id": "peHqbeZyhHJS",
    "outputId": "bc658f36-1800-439f-807c-d0a4a92c7757"
   },
   "outputs": [
    {
     "data": {
      "text/plain": [
       "<AxesSubplot:xlabel='Class', ylabel='count'>"
      ]
     },
     "execution_count": 26,
     "metadata": {},
     "output_type": "execute_result"
    },
    {
     "data": {
      "image/png": "[encoded data removed]",
      "text/plain": [
       "<Figure size 432x288 with 1 Axes>"
      ]
     },
     "metadata": {
      "needs_background": "light"
     },
     "output_type": "display_data"
    }
   ],
   "source": [
    "sns.countplot(x = 'Class', data = classify_dataset)"
   ]
  },
  {
   "cell_type": "markdown",
   "metadata": {
    "id": "q2lnjrIRhHJS"
   },
   "source": [
    "역시나 불균형이지만 SMOTE 등은 진행하지 않겠습니다."
   ]
  },
  {
   "cell_type": "markdown",
   "metadata": {
    "id": "J598ixM8hHJS"
   },
   "source": [
    "이제 Class를 Target으로 하여 decision tree를 기반으로 하는 __XGBoost Classifier__ 를 통해 학습을 시킨 뒤 <br>각각의 고객이 어느 집단에 속할지를 확률로 표현하여 **Uplift Score**를 산출하겠습니다."
   ]
  },
  {
   "cell_type": "code",
   "execution_count": null,
   "metadata": {
    "id": "wxd56oDChHJS"
   },
   "outputs": [],
   "source": [
    "import sklearn\n",
    "import xgboost as xgb"
   ]
  },
  {
   "cell_type": "code",
   "execution_count": null,
   "metadata": {
    "id": "QpurTsFMhHJS"
   },
   "outputs": [],
   "source": [
    "from sklearn.model_selection import train_test_split\n",
    "# from xgboost import XGBClassifier\n",
    "np.set_printoptions(suppress=True)\n",
    "from sklearn.metrics import classification_report, accuracy_score\n",
    "\n",
    "# set_printoptions출력의 정밀도를 설정하는 데 사용할 수 있습니다 .\n",
    "# suppress : 소수에 대한 과학적 표기법의 사용을 억제합니다.\n",
    "\n",
    "pd.options.display.float_format = '{:.5f}'.format\n",
    "# pandas.option 객체 pandas.set_option() 함수를 사용하여 출력 형태를 다양하게 지정할 수 있다. \n",
    "# 예를 들어, 소수점 이하 2자리만 표현하고 싶다면 아래와 같이 할 수 있다. \n",
    "# 이때, f 혹은 e 를 사용하여 과학적 표기법을 쓸지 여부를 지정할 수 있다.\n",
    "\n",
    "used_cols = ['recency', 'history', 'mens', 'womens', 'newbie', 'zip_code_Rural',\n",
    "       'zip_code_Surburban', 'zip_code_Urban', 'history_segment_$0 - $100',\n",
    "       'history_segment_$1,000 +', 'history_segment_$100 - $200',\n",
    "       'history_segment_$200 - $350', 'history_segment_$350 - $500',\n",
    "       'history_segment_$500 - $750', 'history_segment_$750 - $1,000',\n",
    "       'channel_Multichannel', 'channel_Phone', 'channel_Web']\n",
    "\n",
    "X = classify_dataset[used_cols]\n",
    "y = classify_dataset['Class']\n",
    "\n",
    "X_train, X_test, y_train, y_test = train_test_split(X,y,test_size=0.3)"
   ]
  },
  {
   "cell_type": "code",
   "execution_count": null,
   "metadata": {
    "id": "7WM0vLHGhHJT",
    "outputId": "2b5281d0-c7d9-4fe3-d382-e5b662f8eedb"
   },
   "outputs": [
    {
     "name": "stdout",
     "output_type": "stream",
     "text": [
      "Number transactions X_train dataset:  (40286, 18)\n",
      "Number transactions y_train dataset:  (40286,)\n",
      "Number transactions X_test dataset:  (17266, 18)\n",
      "Number transactions y_test dataset:  (17266,)\n"
     ]
    }
   ],
   "source": [
    "print(\"Number transactions X_train dataset: \", X_train.shape)\n",
    "print(\"Number transactions y_train dataset: \", y_train.shape)\n",
    "print(\"Number transactions X_test dataset: \", X_test.shape)\n",
    "print(\"Number transactions y_test dataset: \", y_test.shape)"
   ]
  },
  {
   "cell_type": "markdown",
   "metadata": {
    "id": "rMlnMudahHJT"
   },
   "source": [
    "**의사결정나무 모형 깊이 hyper parameter 중 max depth와 subsample를 달리해서 XGBoost 예측모형의 성능을 비교해본다.**"
   ]
  },
  {
   "cell_type": "markdown",
   "metadata": {
    "id": "DtPNsDFwhHJT"
   },
   "source": [
    "robust한 예측모형 구축을 위해서 훈련데이터를 __교차검증(Cross-Validation)__ 을 통해서 \n",
    "<br> 과적합을 방지시킬 수 있는 모형을 구축할 수 있다.\n",
    "<br> 즉 훈련데이터를 5조각을 내서 1조각을 제외한 나머지 조각을 훈련에 사용하고 모형성능을 1조각으로 평가시켜 \n",
    "<br>가장 강건한 모형을 예측모형으로 선정한다."
   ]
  },
  {
   "cell_type": "code",
   "execution_count": null,
   "metadata": {
    "id": "p4wyxleEhHJT",
    "outputId": "fcb77559-101f-4322-b7f3-e79471602b83"
   },
   "outputs": [
    {
     "name": "stderr",
     "output_type": "stream",
     "text": [
      "/Users/kimhoiin/opt/anaconda3/lib/python3.8/site-packages/joblib/externals/loky/process_executor.py:688: UserWarning: A worker stopped while some jobs were given to the executor. This can be caused by a too short worker timeout or by a memory leak.\n",
      "  warnings.warn(\n"
     ]
    },
    {
     "data": {
      "text/plain": [
       "GridSearchCV(cv=5,\n",
       "             estimator=XGBClassifier(base_score=None, booster=None,\n",
       "                                     colsample_bylevel=None,\n",
       "                                     colsample_bynode=None,\n",
       "                                     colsample_bytree=None, gamma=None,\n",
       "                                     gpu_id=None, importance_type='gain',\n",
       "                                     interaction_constraints=None,\n",
       "                                     learning_rate=None, max_delta_step=None,\n",
       "                                     max_depth=None, min_child_weight=None,\n",
       "                                     missing=nan, monotone_constraints=None,\n",
       "                                     n_estimators=100, n_jobs=None,\n",
       "                                     num_parallel_tree=None, random_state=None,\n",
       "                                     reg_alpha=None, reg_lambda=None,\n",
       "                                     scale_pos_weight=None, subsample=None,\n",
       "                                     tree_method=None, validate_parameters=None,\n",
       "                                     verbosity=None),\n",
       "             n_jobs=8,\n",
       "             param_grid={'max_depth': [3, 5, 7], 'subsample': [0.6, 0.8, 1.0]},\n",
       "             return_train_score=True, scoring='accuracy')"
      ]
     },
     "execution_count": 30,
     "metadata": {},
     "output_type": "execute_result"
    }
   ],
   "source": [
    "from sklearn.model_selection import GridSearchCV\n",
    "\n",
    "# XGBoost 분류기 생성\n",
    "xgb_clf = xgb.XGBClassifier()\n",
    "\n",
    "# 초모수 격자생성\n",
    "xgb_param_grid = {'max_depth': [3,5,7], \n",
    "              'subsample': [0.6, 0.8, 1.0]}\n",
    "\n",
    "# Create a GridSearchCV object\n",
    "# cv = 5\n",
    "hr_grid = GridSearchCV(estimator=xgb_clf,\n",
    "                       param_grid=xgb_param_grid,\n",
    "                       scoring='accuracy',\n",
    "                       n_jobs=8,\n",
    "                       cv=5,\n",
    "                       refit=True, \n",
    "                       return_train_score=True)\n",
    "\n",
    "hr_grid.fit(X_train, y_train)"
   ]
  },
  {
   "cell_type": "code",
   "execution_count": null,
   "metadata": {
    "id": "V7ZlppQHhHJT",
    "outputId": "ff1c8950-358d-4c00-9d91-b7f1cc41ab22"
   },
   "outputs": [
    {
     "data": {
      "text/html": [
       "<div>\n",
       "<style scoped>\n",
       "    .dataframe tbody tr th:only-of-type {\n",
       "        vertical-align: middle;\n",
       "    }\n",
       "\n",
       "    .dataframe tbody tr th {\n",
       "        vertical-align: top;\n",
       "    }\n",
       "\n",
       "    .dataframe thead th {\n",
       "        text-align: right;\n",
       "    }\n",
       "</style>\n",
       "<table border=\"1\" class=\"dataframe\">\n",
       "  <thead>\n",
       "    <tr style=\"text-align: right;\">\n",
       "      <th></th>\n",
       "      <th>mean_test_score</th>\n",
       "      <th>params</th>\n",
       "    </tr>\n",
       "  </thead>\n",
       "  <tbody>\n",
       "    <tr>\n",
       "      <th>0</th>\n",
       "      <td>0.65911</td>\n",
       "      <td>{'max_depth': 3, 'subsample': 0.6}</td>\n",
       "    </tr>\n",
       "    <tr>\n",
       "      <th>1</th>\n",
       "      <td>0.65951</td>\n",
       "      <td>{'max_depth': 3, 'subsample': 0.8}</td>\n",
       "    </tr>\n",
       "    <tr>\n",
       "      <th>2</th>\n",
       "      <td>0.65948</td>\n",
       "      <td>{'max_depth': 3, 'subsample': 1.0}</td>\n",
       "    </tr>\n",
       "    <tr>\n",
       "      <th>3</th>\n",
       "      <td>0.65204</td>\n",
       "      <td>{'max_depth': 5, 'subsample': 0.6}</td>\n",
       "    </tr>\n",
       "    <tr>\n",
       "      <th>4</th>\n",
       "      <td>0.65375</td>\n",
       "      <td>{'max_depth': 5, 'subsample': 0.8}</td>\n",
       "    </tr>\n",
       "    <tr>\n",
       "      <th>5</th>\n",
       "      <td>0.65482</td>\n",
       "      <td>{'max_depth': 5, 'subsample': 1.0}</td>\n",
       "    </tr>\n",
       "    <tr>\n",
       "      <th>6</th>\n",
       "      <td>0.63590</td>\n",
       "      <td>{'max_depth': 7, 'subsample': 0.6}</td>\n",
       "    </tr>\n",
       "    <tr>\n",
       "      <th>7</th>\n",
       "      <td>0.64253</td>\n",
       "      <td>{'max_depth': 7, 'subsample': 0.8}</td>\n",
       "    </tr>\n",
       "    <tr>\n",
       "      <th>8</th>\n",
       "      <td>0.64938</td>\n",
       "      <td>{'max_depth': 7, 'subsample': 1.0}</td>\n",
       "    </tr>\n",
       "  </tbody>\n",
       "</table>\n",
       "</div>"
      ],
      "text/plain": [
       "   mean_test_score                              params\n",
       "0          0.65911  {'max_depth': 3, 'subsample': 0.6}\n",
       "1          0.65951  {'max_depth': 3, 'subsample': 0.8}\n",
       "2          0.65948  {'max_depth': 3, 'subsample': 1.0}\n",
       "3          0.65204  {'max_depth': 5, 'subsample': 0.6}\n",
       "4          0.65375  {'max_depth': 5, 'subsample': 0.8}\n",
       "5          0.65482  {'max_depth': 5, 'subsample': 1.0}\n",
       "6          0.63590  {'max_depth': 7, 'subsample': 0.6}\n",
       "7          0.64253  {'max_depth': 7, 'subsample': 0.8}\n",
       "8          0.64938  {'max_depth': 7, 'subsample': 1.0}"
      ]
     },
     "execution_count": 31,
     "metadata": {},
     "output_type": "execute_result"
    }
   ],
   "source": [
    "hr_grid_df = pd.DataFrame(hr_grid.cv_results_)\n",
    "hr_grid_df.loc[:, ['mean_test_score', \"params\"]]"
   ]
  },
  {
   "cell_type": "code",
   "execution_count": null,
   "metadata": {
    "id": "-nnxNsG1hHJT",
    "outputId": "c7a0f22a-61f9-4ae9-ed66-4335055e5a60"
   },
   "outputs": [
    {
     "data": {
      "text/html": [
       "<div>\n",
       "<style scoped>\n",
       "    .dataframe tbody tr th:only-of-type {\n",
       "        vertical-align: middle;\n",
       "    }\n",
       "\n",
       "    .dataframe tbody tr th {\n",
       "        vertical-align: top;\n",
       "    }\n",
       "\n",
       "    .dataframe thead th {\n",
       "        text-align: right;\n",
       "    }\n",
       "</style>\n",
       "<table border=\"1\" class=\"dataframe\">\n",
       "  <thead>\n",
       "    <tr style=\"text-align: right;\">\n",
       "      <th></th>\n",
       "      <th>mean_fit_time</th>\n",
       "      <th>std_fit_time</th>\n",
       "      <th>mean_score_time</th>\n",
       "      <th>std_score_time</th>\n",
       "      <th>param_max_depth</th>\n",
       "      <th>param_subsample</th>\n",
       "      <th>params</th>\n",
       "      <th>split0_test_score</th>\n",
       "      <th>split1_test_score</th>\n",
       "      <th>split2_test_score</th>\n",
       "      <th>...</th>\n",
       "      <th>mean_test_score</th>\n",
       "      <th>std_test_score</th>\n",
       "      <th>rank_test_score</th>\n",
       "      <th>split0_train_score</th>\n",
       "      <th>split1_train_score</th>\n",
       "      <th>split2_train_score</th>\n",
       "      <th>split3_train_score</th>\n",
       "      <th>split4_train_score</th>\n",
       "      <th>mean_train_score</th>\n",
       "      <th>std_train_score</th>\n",
       "    </tr>\n",
       "  </thead>\n",
       "  <tbody>\n",
       "    <tr>\n",
       "      <th>1</th>\n",
       "      <td>11.45268</td>\n",
       "      <td>0.25016</td>\n",
       "      <td>0.10654</td>\n",
       "      <td>0.01535</td>\n",
       "      <td>3</td>\n",
       "      <td>0.80000</td>\n",
       "      <td>{'max_depth': 3, 'subsample': 0.8}</td>\n",
       "      <td>0.65897</td>\n",
       "      <td>0.65955</td>\n",
       "      <td>0.65881</td>\n",
       "      <td>...</td>\n",
       "      <td>0.65951</td>\n",
       "      <td>0.00065</td>\n",
       "      <td>1</td>\n",
       "      <td>0.66296</td>\n",
       "      <td>0.66279</td>\n",
       "      <td>0.66235</td>\n",
       "      <td>0.66257</td>\n",
       "      <td>0.66338</td>\n",
       "      <td>0.66281</td>\n",
       "      <td>0.00035</td>\n",
       "    </tr>\n",
       "  </tbody>\n",
       "</table>\n",
       "<p>1 rows × 22 columns</p>\n",
       "</div>"
      ],
      "text/plain": [
       "   mean_fit_time  std_fit_time  mean_score_time  std_score_time  \\\n",
       "1       11.45268       0.25016          0.10654         0.01535   \n",
       "\n",
       "  param_max_depth param_subsample                              params  \\\n",
       "1               3         0.80000  {'max_depth': 3, 'subsample': 0.8}   \n",
       "\n",
       "   split0_test_score  split1_test_score  split2_test_score  ...  \\\n",
       "1            0.65897            0.65955            0.65881  ...   \n",
       "\n",
       "   mean_test_score  std_test_score  rank_test_score  split0_train_score  \\\n",
       "1          0.65951         0.00065                1             0.66296   \n",
       "\n",
       "   split1_train_score  split2_train_score  split3_train_score  \\\n",
       "1             0.66279             0.66235             0.66257   \n",
       "\n",
       "   split4_train_score  mean_train_score  std_train_score  \n",
       "1             0.66338           0.66281          0.00035  \n",
       "\n",
       "[1 rows x 22 columns]"
      ]
     },
     "execution_count": 32,
     "metadata": {},
     "output_type": "execute_result"
    }
   ],
   "source": [
    "hr_grid_df[hr_grid_df['rank_test_score'] == 1]"
   ]
  },
  {
   "cell_type": "code",
   "execution_count": null,
   "metadata": {
    "id": "qt7IhkCyhHJT",
    "outputId": "9b75201d-df3f-4298-ae01-6dff51dd8d27",
    "scrolled": true
   },
   "outputs": [
    {
     "name": "stdout",
     "output_type": "stream",
     "text": [
      "예측모형성능(Accuracy):  \t 0.660\n",
      "        인덱스:           \t 1\n",
      "        max_depth:      \t 3\n",
      "        subsample:      \t 0.8\n"
     ]
    }
   ],
   "source": [
    "## 최고성능\n",
    "best_score = hr_grid.best_score_\n",
    "# 최고성능을 내는 행을 찾아냄\n",
    "best_row = hr_grid.best_index_\n",
    "\n",
    "# 최적 초모수: max_depth, subsample\n",
    "best_max_depth     = hr_grid.best_params_[\"max_depth\"]\n",
    "best_max_subsample = hr_grid.best_params_[\"subsample\"]\n",
    "\n",
    "nl = '\\n'\n",
    "print(f'예측모형성능(Accuracy):  \\t {best_score:.3f}{nl}\\\n",
    "        인덱스:           \\t {best_row}{nl}\\\n",
    "        max_depth:      \\t {best_max_depth}{nl}\\\n",
    "        subsample:      \\t {best_max_subsample}')"
   ]
  },
  {
   "cell_type": "markdown",
   "metadata": {
    "id": "hPAToPOEhHJT"
   },
   "source": [
    "위의 결과에 따라서 max depth는 3으로 채택하기로 하자\n",
    "<br>\n",
    "sub_sample은 0.6으로 파라미터 튜닝을 하기로 하자"
   ]
  },
  {
   "cell_type": "markdown",
   "metadata": {
    "id": "C8iLznf4hHJT"
   },
   "source": [
    "graphviz를 통해 xgbboost 모형 객체를 통한 **변수 중요도(feature importance)** 를 확인해보록 하자"
   ]
  },
  {
   "cell_type": "markdown",
   "metadata": {
    "id": "F2ExJe8zhHJT"
   },
   "source": [
    "위에서 채택된 하이퍼 파라미터를 적용해 모델을 학습시켜보자 <br> # n_estimators=100, max depth = 3, learning rate = 0.1"
   ]
  },
  {
   "cell_type": "markdown",
   "metadata": {
    "id": "5WKjYy_rhHJT"
   },
   "source": [
    "이 때 XGB를 이용한 다중 클래스 classification을 진행하므로 eval_metric도 그에 맞게 \"mlogloss\"를 선택해 loss를 minimize하는 쪽으로 분류를 진행하도록 한다."
   ]
  },
  {
   "cell_type": "code",
   "execution_count": null,
   "metadata": {
    "id": "6Z6rNSIdhHJT",
    "outputId": "a302c862-29fd-4d93-e1da-515daff3da8d"
   },
   "outputs": [
    {
     "name": "stdout",
     "output_type": "stream",
     "text": [
      "[0]\tvalidation_0-mlogloss:1.31011\n",
      "Will train until validation_0-mlogloss hasn't improved in 100 rounds.\n",
      "[1]\tvalidation_0-mlogloss:1.24488\n",
      "[2]\tvalidation_0-mlogloss:1.18879\n",
      "[3]\tvalidation_0-mlogloss:1.13979\n",
      "[4]\tvalidation_0-mlogloss:1.09701\n",
      "[5]\tvalidation_0-mlogloss:1.05921\n",
      "[6]\tvalidation_0-mlogloss:1.02579\n",
      "[7]\tvalidation_0-mlogloss:0.99597\n",
      "[8]\tvalidation_0-mlogloss:0.96927\n",
      "[9]\tvalidation_0-mlogloss:0.94564\n",
      "[10]\tvalidation_0-mlogloss:0.92426\n",
      "[11]\tvalidation_0-mlogloss:0.90494\n",
      "[12]\tvalidation_0-mlogloss:0.88754\n",
      "[13]\tvalidation_0-mlogloss:0.87185\n",
      "[14]\tvalidation_0-mlogloss:0.85747\n",
      "[15]\tvalidation_0-mlogloss:0.84455\n",
      "[16]\tvalidation_0-mlogloss:0.83260\n",
      "[17]\tvalidation_0-mlogloss:0.82168\n",
      "[18]\tvalidation_0-mlogloss:0.81177\n",
      "[19]\tvalidation_0-mlogloss:0.80261\n",
      "[20]\tvalidation_0-mlogloss:0.79419\n",
      "[21]\tvalidation_0-mlogloss:0.78643\n",
      "[22]\tvalidation_0-mlogloss:0.77937\n",
      "[23]\tvalidation_0-mlogloss:0.77273\n",
      "[24]\tvalidation_0-mlogloss:0.76659\n",
      "[25]\tvalidation_0-mlogloss:0.76095\n",
      "[26]\tvalidation_0-mlogloss:0.75570\n",
      "[27]\tvalidation_0-mlogloss:0.75081\n",
      "[28]\tvalidation_0-mlogloss:0.74630\n",
      "[29]\tvalidation_0-mlogloss:0.74208\n",
      "[30]\tvalidation_0-mlogloss:0.73812\n",
      "[31]\tvalidation_0-mlogloss:0.73452\n",
      "[32]\tvalidation_0-mlogloss:0.73118\n",
      "[33]\tvalidation_0-mlogloss:0.72805\n",
      "[34]\tvalidation_0-mlogloss:0.72511\n",
      "[35]\tvalidation_0-mlogloss:0.72238\n",
      "[36]\tvalidation_0-mlogloss:0.71987\n",
      "[37]\tvalidation_0-mlogloss:0.71748\n",
      "[38]\tvalidation_0-mlogloss:0.71525\n",
      "[39]\tvalidation_0-mlogloss:0.71318\n",
      "[40]\tvalidation_0-mlogloss:0.71123\n",
      "[41]\tvalidation_0-mlogloss:0.70936\n",
      "[42]\tvalidation_0-mlogloss:0.70768\n",
      "[43]\tvalidation_0-mlogloss:0.70613\n",
      "[44]\tvalidation_0-mlogloss:0.70466\n",
      "[45]\tvalidation_0-mlogloss:0.70331\n",
      "[46]\tvalidation_0-mlogloss:0.70204\n",
      "[47]\tvalidation_0-mlogloss:0.70089\n",
      "[48]\tvalidation_0-mlogloss:0.69978\n",
      "[49]\tvalidation_0-mlogloss:0.69873\n",
      "[50]\tvalidation_0-mlogloss:0.69776\n",
      "[51]\tvalidation_0-mlogloss:0.69685\n",
      "[52]\tvalidation_0-mlogloss:0.69598\n",
      "[53]\tvalidation_0-mlogloss:0.69516\n",
      "[54]\tvalidation_0-mlogloss:0.69439\n",
      "[55]\tvalidation_0-mlogloss:0.69373\n",
      "[56]\tvalidation_0-mlogloss:0.69308\n",
      "[57]\tvalidation_0-mlogloss:0.69246\n",
      "[58]\tvalidation_0-mlogloss:0.69189\n",
      "[59]\tvalidation_0-mlogloss:0.69136\n",
      "[60]\tvalidation_0-mlogloss:0.69087\n",
      "[61]\tvalidation_0-mlogloss:0.69044\n",
      "[62]\tvalidation_0-mlogloss:0.69001\n",
      "[63]\tvalidation_0-mlogloss:0.68962\n",
      "[64]\tvalidation_0-mlogloss:0.68921\n",
      "[65]\tvalidation_0-mlogloss:0.68886\n",
      "[66]\tvalidation_0-mlogloss:0.68854\n",
      "[67]\tvalidation_0-mlogloss:0.68821\n",
      "[68]\tvalidation_0-mlogloss:0.68792\n",
      "[69]\tvalidation_0-mlogloss:0.68768\n",
      "[70]\tvalidation_0-mlogloss:0.68745\n",
      "[71]\tvalidation_0-mlogloss:0.68718\n",
      "[72]\tvalidation_0-mlogloss:0.68697\n",
      "[73]\tvalidation_0-mlogloss:0.68678\n",
      "[74]\tvalidation_0-mlogloss:0.68660\n",
      "[75]\tvalidation_0-mlogloss:0.68644\n",
      "[76]\tvalidation_0-mlogloss:0.68632\n",
      "[77]\tvalidation_0-mlogloss:0.68617\n",
      "[78]\tvalidation_0-mlogloss:0.68605\n",
      "[79]\tvalidation_0-mlogloss:0.68593\n",
      "[80]\tvalidation_0-mlogloss:0.68581\n",
      "[81]\tvalidation_0-mlogloss:0.68570\n",
      "[82]\tvalidation_0-mlogloss:0.68567\n",
      "[83]\tvalidation_0-mlogloss:0.68566\n",
      "[84]\tvalidation_0-mlogloss:0.68556\n",
      "[85]\tvalidation_0-mlogloss:0.68552\n",
      "[86]\tvalidation_0-mlogloss:0.68545\n",
      "[87]\tvalidation_0-mlogloss:0.68538\n",
      "[88]\tvalidation_0-mlogloss:0.68536\n",
      "[89]\tvalidation_0-mlogloss:0.68534\n",
      "[90]\tvalidation_0-mlogloss:0.68530\n",
      "[91]\tvalidation_0-mlogloss:0.68527\n",
      "[92]\tvalidation_0-mlogloss:0.68520\n",
      "[93]\tvalidation_0-mlogloss:0.68517\n",
      "[94]\tvalidation_0-mlogloss:0.68514\n",
      "[95]\tvalidation_0-mlogloss:0.68514\n",
      "[96]\tvalidation_0-mlogloss:0.68510\n",
      "[97]\tvalidation_0-mlogloss:0.68510\n",
      "[98]\tvalidation_0-mlogloss:0.68506\n",
      "[99]\tvalidation_0-mlogloss:0.68507\n"
     ]
    }
   ],
   "source": [
    "# n_estimators=100, max depth = 3, learning rate = 0.1\n",
    "xgb_wrapper = xgb.XGBClassifier(n_estimators=100,max_depth=3, subsample = 0.6,learning_rate=0.1)\n",
    "\n",
    "evals = [(X_test, y_test)]\n",
    "\n",
    "# logloss like rank metric was not designed for multi-class classification. (다중 클래스 logloss)\n",
    "# You can use the original multiclass evaluation metric, or write customized evaluation function to support this.\n",
    "# multi class classification을 위해 mlogloss metric을 이용했습니다\n",
    "\n",
    "xgb_wrapper.fit(X_train, y_train, early_stopping_rounds=100, eval_metric =\"mlogloss\", eval_set = evals, verbose = True)\n",
    "\n",
    "class_probs = xgb_wrapper.predict_proba(X_test)"
   ]
  },
  {
   "cell_type": "code",
   "execution_count": null,
   "metadata": {
    "id": "vIBprW0HhHJU"
   },
   "outputs": [],
   "source": [
    "class_preds = xgb_wrapper.predict(X_test)"
   ]
  },
  {
   "cell_type": "code",
   "execution_count": null,
   "metadata": {
    "id": "oVneV5tThHJU",
    "outputId": "4a8c7a09-08cb-4138-964e-1b3fa5c359e8"
   },
   "outputs": [
    {
     "data": {
      "text/plain": [
       "array([1, 1, 1, ..., 1, 1, 1])"
      ]
     },
     "execution_count": 36,
     "metadata": {},
     "output_type": "execute_result"
    }
   ],
   "source": [
    "class_preds"
   ]
  },
  {
   "cell_type": "code",
   "execution_count": null,
   "metadata": {
    "id": "8Q2dYVXJhHJU",
    "outputId": "1c0496bd-3a56-460b-cbc4-76841a2792be",
    "scrolled": true
   },
   "outputs": [
    {
     "name": "stdout",
     "output_type": "stream",
     "text": [
      "              precision    recall  f1-score   support\n",
      "\n",
      "           0       0.00      0.00      0.00       113\n",
      "           1       0.66      1.00      0.80     11416\n",
      "           2       0.00      0.00      0.00        32\n",
      "           3       0.00      0.00      0.00      5705\n",
      "\n",
      "    accuracy                           0.66     17266\n",
      "   macro avg       0.17      0.25      0.20     17266\n",
      "weighted avg       0.44      0.66      0.53     17266\n",
      "\n"
     ]
    },
    {
     "name": "stderr",
     "output_type": "stream",
     "text": [
      "/Users/kimhoiin/opt/anaconda3/lib/python3.8/site-packages/sklearn/metrics/_classification.py:1248: UndefinedMetricWarning: Precision and F-score are ill-defined and being set to 0.0 in labels with no predicted samples. Use `zero_division` parameter to control this behavior.\n",
      "  _warn_prf(average, modifier, msg_start, len(result))\n",
      "/Users/kimhoiin/opt/anaconda3/lib/python3.8/site-packages/sklearn/metrics/_classification.py:1248: UndefinedMetricWarning: Precision and F-score are ill-defined and being set to 0.0 in labels with no predicted samples. Use `zero_division` parameter to control this behavior.\n",
      "  _warn_prf(average, modifier, msg_start, len(result))\n",
      "/Users/kimhoiin/opt/anaconda3/lib/python3.8/site-packages/sklearn/metrics/_classification.py:1248: UndefinedMetricWarning: Precision and F-score are ill-defined and being set to 0.0 in labels with no predicted samples. Use `zero_division` parameter to control this behavior.\n",
      "  _warn_prf(average, modifier, msg_start, len(result))\n"
     ]
    }
   ],
   "source": [
    "print(classification_report(y_test, class_preds))"
   ]
  },
  {
   "cell_type": "code",
   "execution_count": null,
   "metadata": {
    "id": "HjXPLMgZhHJU"
   },
   "outputs": [],
   "source": [
    "overall_proba = xgb_wrapper.predict_proba(X)\n",
    "\n",
    "result_dataset = classify_dataset.copy()\n",
    "\n",
    "for i in range(4):\n",
    "    result_dataset[f'proba_{i}'] = overall_proba[:,i] \n",
    "\n",
    "result_dataset.eval('uplift_score = proba_0+proba_3-proba_1-proba_2', inplace = True)"
   ]
  },
  {
   "cell_type": "code",
   "execution_count": null,
   "metadata": {
    "id": "kNy3QB5JhHJU",
    "outputId": "a7809317-64c5-436c-d998-73b7e2c08756"
   },
   "outputs": [
    {
     "data": {
      "text/plain": [
       "array([[0.00482471, 0.64285415, 0.00212492, 0.35019618],\n",
       "       [0.00706838, 0.64652115, 0.00188481, 0.34452567],\n",
       "       [0.00759394, 0.64011097, 0.00199539, 0.35029972],\n",
       "       ...,\n",
       "       [0.00570504, 0.6446272 , 0.0021399 , 0.34752786],\n",
       "       [0.01434364, 0.62422174, 0.0031135 , 0.35832116],\n",
       "       [0.0101197 , 0.63856244, 0.00690545, 0.3444124 ]], dtype=float32)"
      ]
     },
     "execution_count": 39,
     "metadata": {},
     "output_type": "execute_result"
    }
   ],
   "source": [
    "overall_proba"
   ]
  },
  {
   "cell_type": "code",
   "execution_count": null,
   "metadata": {
    "id": "eud-3MS9hHJU",
    "outputId": "b0cae17b-69be-4bd9-d4bb-73edc6a88efc"
   },
   "outputs": [
    {
     "data": {
      "text/html": [
       "<div>\n",
       "<style scoped>\n",
       "    .dataframe tbody tr th:only-of-type {\n",
       "        vertical-align: middle;\n",
       "    }\n",
       "\n",
       "    .dataframe tbody tr th {\n",
       "        vertical-align: top;\n",
       "    }\n",
       "\n",
       "    .dataframe thead th {\n",
       "        text-align: right;\n",
       "    }\n",
       "</style>\n",
       "<table border=\"1\" class=\"dataframe\">\n",
       "  <thead>\n",
       "    <tr style=\"text-align: right;\">\n",
       "      <th></th>\n",
       "      <th>recency</th>\n",
       "      <th>history</th>\n",
       "      <th>mens</th>\n",
       "      <th>womens</th>\n",
       "      <th>newbie</th>\n",
       "      <th>zip_code_Rural</th>\n",
       "      <th>zip_code_Surburban</th>\n",
       "      <th>zip_code_Urban</th>\n",
       "      <th>history_segment_$0 - $100</th>\n",
       "      <th>history_segment_$1,000 +</th>\n",
       "      <th>...</th>\n",
       "      <th>treatment</th>\n",
       "      <th>target_spend</th>\n",
       "      <th>target_visit</th>\n",
       "      <th>target_conversion</th>\n",
       "      <th>Class</th>\n",
       "      <th>proba_0</th>\n",
       "      <th>proba_1</th>\n",
       "      <th>proba_2</th>\n",
       "      <th>proba_3</th>\n",
       "      <th>uplift_score</th>\n",
       "    </tr>\n",
       "  </thead>\n",
       "  <tbody>\n",
       "    <tr>\n",
       "      <th>0</th>\n",
       "      <td>10.00000</td>\n",
       "      <td>142.44000</td>\n",
       "      <td>1.00000</td>\n",
       "      <td>0.00000</td>\n",
       "      <td>0.00000</td>\n",
       "      <td>0.00000</td>\n",
       "      <td>1.00000</td>\n",
       "      <td>0.00000</td>\n",
       "      <td>0.00000</td>\n",
       "      <td>0.00000</td>\n",
       "      <td>...</td>\n",
       "      <td>1</td>\n",
       "      <td>0.00000</td>\n",
       "      <td>0.00000</td>\n",
       "      <td>0.00000</td>\n",
       "      <td>1</td>\n",
       "      <td>0.00482</td>\n",
       "      <td>0.64285</td>\n",
       "      <td>0.00212</td>\n",
       "      <td>0.35020</td>\n",
       "      <td>-0.28996</td>\n",
       "    </tr>\n",
       "    <tr>\n",
       "      <th>2</th>\n",
       "      <td>7.00000</td>\n",
       "      <td>180.65000</td>\n",
       "      <td>0.00000</td>\n",
       "      <td>1.00000</td>\n",
       "      <td>1.00000</td>\n",
       "      <td>0.00000</td>\n",
       "      <td>1.00000</td>\n",
       "      <td>0.00000</td>\n",
       "      <td>0.00000</td>\n",
       "      <td>0.00000</td>\n",
       "      <td>...</td>\n",
       "      <td>1</td>\n",
       "      <td>0.00000</td>\n",
       "      <td>0.00000</td>\n",
       "      <td>0.00000</td>\n",
       "      <td>1</td>\n",
       "      <td>0.00707</td>\n",
       "      <td>0.64652</td>\n",
       "      <td>0.00188</td>\n",
       "      <td>0.34453</td>\n",
       "      <td>-0.29681</td>\n",
       "    </tr>\n",
       "    <tr>\n",
       "      <th>3</th>\n",
       "      <td>9.00000</td>\n",
       "      <td>675.83000</td>\n",
       "      <td>1.00000</td>\n",
       "      <td>0.00000</td>\n",
       "      <td>1.00000</td>\n",
       "      <td>1.00000</td>\n",
       "      <td>0.00000</td>\n",
       "      <td>0.00000</td>\n",
       "      <td>0.00000</td>\n",
       "      <td>0.00000</td>\n",
       "      <td>...</td>\n",
       "      <td>1</td>\n",
       "      <td>0.00000</td>\n",
       "      <td>0.00000</td>\n",
       "      <td>0.00000</td>\n",
       "      <td>1</td>\n",
       "      <td>0.00759</td>\n",
       "      <td>0.64011</td>\n",
       "      <td>0.00200</td>\n",
       "      <td>0.35030</td>\n",
       "      <td>-0.28421</td>\n",
       "    </tr>\n",
       "    <tr>\n",
       "      <th>4</th>\n",
       "      <td>2.00000</td>\n",
       "      <td>45.34000</td>\n",
       "      <td>1.00000</td>\n",
       "      <td>0.00000</td>\n",
       "      <td>0.00000</td>\n",
       "      <td>0.00000</td>\n",
       "      <td>0.00000</td>\n",
       "      <td>1.00000</td>\n",
       "      <td>1.00000</td>\n",
       "      <td>0.00000</td>\n",
       "      <td>...</td>\n",
       "      <td>1</td>\n",
       "      <td>0.00000</td>\n",
       "      <td>0.00000</td>\n",
       "      <td>0.00000</td>\n",
       "      <td>1</td>\n",
       "      <td>0.00645</td>\n",
       "      <td>0.65102</td>\n",
       "      <td>0.00351</td>\n",
       "      <td>0.33902</td>\n",
       "      <td>-0.30906</td>\n",
       "    </tr>\n",
       "    <tr>\n",
       "      <th>5</th>\n",
       "      <td>6.00000</td>\n",
       "      <td>134.83000</td>\n",
       "      <td>0.00000</td>\n",
       "      <td>1.00000</td>\n",
       "      <td>0.00000</td>\n",
       "      <td>0.00000</td>\n",
       "      <td>1.00000</td>\n",
       "      <td>0.00000</td>\n",
       "      <td>0.00000</td>\n",
       "      <td>0.00000</td>\n",
       "      <td>...</td>\n",
       "      <td>1</td>\n",
       "      <td>0.00000</td>\n",
       "      <td>1.00000</td>\n",
       "      <td>0.00000</td>\n",
       "      <td>1</td>\n",
       "      <td>0.00556</td>\n",
       "      <td>0.65182</td>\n",
       "      <td>0.00240</td>\n",
       "      <td>0.34022</td>\n",
       "      <td>-0.30843</td>\n",
       "    </tr>\n",
       "    <tr>\n",
       "      <th>...</th>\n",
       "      <td>...</td>\n",
       "      <td>...</td>\n",
       "      <td>...</td>\n",
       "      <td>...</td>\n",
       "      <td>...</td>\n",
       "      <td>...</td>\n",
       "      <td>...</td>\n",
       "      <td>...</td>\n",
       "      <td>...</td>\n",
       "      <td>...</td>\n",
       "      <td>...</td>\n",
       "      <td>...</td>\n",
       "      <td>...</td>\n",
       "      <td>...</td>\n",
       "      <td>...</td>\n",
       "      <td>...</td>\n",
       "      <td>...</td>\n",
       "      <td>...</td>\n",
       "      <td>...</td>\n",
       "      <td>...</td>\n",
       "      <td>...</td>\n",
       "    </tr>\n",
       "    <tr>\n",
       "      <th>63995</th>\n",
       "      <td>10.00000</td>\n",
       "      <td>105.54000</td>\n",
       "      <td>1.00000</td>\n",
       "      <td>0.00000</td>\n",
       "      <td>0.00000</td>\n",
       "      <td>0.00000</td>\n",
       "      <td>0.00000</td>\n",
       "      <td>1.00000</td>\n",
       "      <td>0.00000</td>\n",
       "      <td>0.00000</td>\n",
       "      <td>...</td>\n",
       "      <td>1</td>\n",
       "      <td>0.00000</td>\n",
       "      <td>0.00000</td>\n",
       "      <td>0.00000</td>\n",
       "      <td>1</td>\n",
       "      <td>0.00535</td>\n",
       "      <td>0.65751</td>\n",
       "      <td>0.00220</td>\n",
       "      <td>0.33495</td>\n",
       "      <td>-0.31940</td>\n",
       "    </tr>\n",
       "    <tr>\n",
       "      <th>63996</th>\n",
       "      <td>5.00000</td>\n",
       "      <td>38.91000</td>\n",
       "      <td>0.00000</td>\n",
       "      <td>1.00000</td>\n",
       "      <td>1.00000</td>\n",
       "      <td>0.00000</td>\n",
       "      <td>0.00000</td>\n",
       "      <td>1.00000</td>\n",
       "      <td>1.00000</td>\n",
       "      <td>0.00000</td>\n",
       "      <td>...</td>\n",
       "      <td>1</td>\n",
       "      <td>0.00000</td>\n",
       "      <td>0.00000</td>\n",
       "      <td>0.00000</td>\n",
       "      <td>1</td>\n",
       "      <td>0.00522</td>\n",
       "      <td>0.70332</td>\n",
       "      <td>0.00205</td>\n",
       "      <td>0.28941</td>\n",
       "      <td>-0.41073</td>\n",
       "    </tr>\n",
       "    <tr>\n",
       "      <th>63997</th>\n",
       "      <td>6.00000</td>\n",
       "      <td>29.99000</td>\n",
       "      <td>1.00000</td>\n",
       "      <td>0.00000</td>\n",
       "      <td>1.00000</td>\n",
       "      <td>0.00000</td>\n",
       "      <td>0.00000</td>\n",
       "      <td>1.00000</td>\n",
       "      <td>1.00000</td>\n",
       "      <td>0.00000</td>\n",
       "      <td>...</td>\n",
       "      <td>1</td>\n",
       "      <td>0.00000</td>\n",
       "      <td>0.00000</td>\n",
       "      <td>0.00000</td>\n",
       "      <td>1</td>\n",
       "      <td>0.00571</td>\n",
       "      <td>0.64463</td>\n",
       "      <td>0.00214</td>\n",
       "      <td>0.34753</td>\n",
       "      <td>-0.29353</td>\n",
       "    </tr>\n",
       "    <tr>\n",
       "      <th>63998</th>\n",
       "      <td>1.00000</td>\n",
       "      <td>552.94000</td>\n",
       "      <td>1.00000</td>\n",
       "      <td>0.00000</td>\n",
       "      <td>1.00000</td>\n",
       "      <td>0.00000</td>\n",
       "      <td>1.00000</td>\n",
       "      <td>0.00000</td>\n",
       "      <td>0.00000</td>\n",
       "      <td>0.00000</td>\n",
       "      <td>...</td>\n",
       "      <td>1</td>\n",
       "      <td>0.00000</td>\n",
       "      <td>0.00000</td>\n",
       "      <td>0.00000</td>\n",
       "      <td>1</td>\n",
       "      <td>0.01434</td>\n",
       "      <td>0.62422</td>\n",
       "      <td>0.00311</td>\n",
       "      <td>0.35832</td>\n",
       "      <td>-0.25467</td>\n",
       "    </tr>\n",
       "    <tr>\n",
       "      <th>63999</th>\n",
       "      <td>1.00000</td>\n",
       "      <td>472.82000</td>\n",
       "      <td>0.00000</td>\n",
       "      <td>1.00000</td>\n",
       "      <td>0.00000</td>\n",
       "      <td>0.00000</td>\n",
       "      <td>1.00000</td>\n",
       "      <td>0.00000</td>\n",
       "      <td>0.00000</td>\n",
       "      <td>0.00000</td>\n",
       "      <td>...</td>\n",
       "      <td>1</td>\n",
       "      <td>0.00000</td>\n",
       "      <td>0.00000</td>\n",
       "      <td>0.00000</td>\n",
       "      <td>1</td>\n",
       "      <td>0.01012</td>\n",
       "      <td>0.63856</td>\n",
       "      <td>0.00691</td>\n",
       "      <td>0.34441</td>\n",
       "      <td>-0.29094</td>\n",
       "    </tr>\n",
       "  </tbody>\n",
       "</table>\n",
       "<p>57552 rows × 28 columns</p>\n",
       "</div>"
      ],
      "text/plain": [
       "       recency   history    mens  womens  newbie  zip_code_Rural  \\\n",
       "0     10.00000 142.44000 1.00000 0.00000 0.00000         0.00000   \n",
       "2      7.00000 180.65000 0.00000 1.00000 1.00000         0.00000   \n",
       "3      9.00000 675.83000 1.00000 0.00000 1.00000         1.00000   \n",
       "4      2.00000  45.34000 1.00000 0.00000 0.00000         0.00000   \n",
       "5      6.00000 134.83000 0.00000 1.00000 0.00000         0.00000   \n",
       "...        ...       ...     ...     ...     ...             ...   \n",
       "63995 10.00000 105.54000 1.00000 0.00000 0.00000         0.00000   \n",
       "63996  5.00000  38.91000 0.00000 1.00000 1.00000         0.00000   \n",
       "63997  6.00000  29.99000 1.00000 0.00000 1.00000         0.00000   \n",
       "63998  1.00000 552.94000 1.00000 0.00000 1.00000         0.00000   \n",
       "63999  1.00000 472.82000 0.00000 1.00000 0.00000         0.00000   \n",
       "\n",
       "       zip_code_Surburban  zip_code_Urban  history_segment_$0 - $100  \\\n",
       "0                 1.00000         0.00000                    0.00000   \n",
       "2                 1.00000         0.00000                    0.00000   \n",
       "3                 0.00000         0.00000                    0.00000   \n",
       "4                 0.00000         1.00000                    1.00000   \n",
       "5                 1.00000         0.00000                    0.00000   \n",
       "...                   ...             ...                        ...   \n",
       "63995             0.00000         1.00000                    0.00000   \n",
       "63996             0.00000         1.00000                    1.00000   \n",
       "63997             0.00000         1.00000                    1.00000   \n",
       "63998             1.00000         0.00000                    0.00000   \n",
       "63999             1.00000         0.00000                    0.00000   \n",
       "\n",
       "       history_segment_$1,000 +  ...  treatment  target_spend  target_visit  \\\n",
       "0                       0.00000  ...          1       0.00000       0.00000   \n",
       "2                       0.00000  ...          1       0.00000       0.00000   \n",
       "3                       0.00000  ...          1       0.00000       0.00000   \n",
       "4                       0.00000  ...          1       0.00000       0.00000   \n",
       "5                       0.00000  ...          1       0.00000       1.00000   \n",
       "...                         ...  ...        ...           ...           ...   \n",
       "63995                   0.00000  ...          1       0.00000       0.00000   \n",
       "63996                   0.00000  ...          1       0.00000       0.00000   \n",
       "63997                   0.00000  ...          1       0.00000       0.00000   \n",
       "63998                   0.00000  ...          1       0.00000       0.00000   \n",
       "63999                   0.00000  ...          1       0.00000       0.00000   \n",
       "\n",
       "       target_conversion  Class  proba_0  proba_1  proba_2  proba_3  \\\n",
       "0                0.00000      1  0.00482  0.64285  0.00212  0.35020   \n",
       "2                0.00000      1  0.00707  0.64652  0.00188  0.34453   \n",
       "3                0.00000      1  0.00759  0.64011  0.00200  0.35030   \n",
       "4                0.00000      1  0.00645  0.65102  0.00351  0.33902   \n",
       "5                0.00000      1  0.00556  0.65182  0.00240  0.34022   \n",
       "...                  ...    ...      ...      ...      ...      ...   \n",
       "63995            0.00000      1  0.00535  0.65751  0.00220  0.33495   \n",
       "63996            0.00000      1  0.00522  0.70332  0.00205  0.28941   \n",
       "63997            0.00000      1  0.00571  0.64463  0.00214  0.34753   \n",
       "63998            0.00000      1  0.01434  0.62422  0.00311  0.35832   \n",
       "63999            0.00000      1  0.01012  0.63856  0.00691  0.34441   \n",
       "\n",
       "       uplift_score  \n",
       "0          -0.28996  \n",
       "2          -0.29681  \n",
       "3          -0.28421  \n",
       "4          -0.30906  \n",
       "5          -0.30843  \n",
       "...             ...  \n",
       "63995      -0.31940  \n",
       "63996      -0.41073  \n",
       "63997      -0.29353  \n",
       "63998      -0.25467  \n",
       "63999      -0.29094  \n",
       "\n",
       "[57552 rows x 28 columns]"
      ]
     },
     "execution_count": 40,
     "metadata": {},
     "output_type": "execute_result"
    }
   ],
   "source": [
    "result_dataset"
   ]
  },
  {
   "cell_type": "code",
   "execution_count": null,
   "metadata": {
    "id": "0itzGDiMhHJU",
    "outputId": "55501dc8-5ea8-4418-a5d6-d4412e5ad66c"
   },
   "outputs": [
    {
     "data": {
      "text/plain": [
       "<seaborn.axisgrid.FacetGrid at 0x7f9c596fcc70>"
      ]
     },
     "execution_count": 41,
     "metadata": {},
     "output_type": "execute_result"
    },
    {
     "data": {
      "image/png": "[encoded data removed]",
      "text/plain": [
       "<Figure size 360x360 with 1 Axes>"
      ]
     },
     "metadata": {
      "needs_background": "light"
     },
     "output_type": "display_data"
    }
   ],
   "source": [
    "sns.displot(result_dataset['uplift_score'], kde = True)"
   ]
  },
  {
   "cell_type": "code",
   "execution_count": null,
   "metadata": {
    "id": "iJPqb1wYhHJU",
    "outputId": "5c069338-f9f2-4037-b2be-3d57d88ac4ae",
    "scrolled": true
   },
   "outputs": [
    {
     "data": {
      "text/plain": [
       "<AxesSubplot:title={'center':'Feature importance'}, xlabel='F score', ylabel='Features'>"
      ]
     },
     "execution_count": 42,
     "metadata": {},
     "output_type": "execute_result"
    },
    {
     "data": {
      "image/png": "[encoded data removed]",
      "text/plain": [
       "<Figure size 432x288 with 1 Axes>"
      ]
     },
     "metadata": {
      "needs_background": "light"
     },
     "output_type": "display_data"
    }
   ],
   "source": [
    "xgb.plot_importance(xgb_wrapper)"
   ]
  },
  {
   "cell_type": "code",
   "execution_count": null,
   "metadata": {
    "id": "ztU6TgqIhHJU",
    "outputId": "ffda08f8-47c7-42a3-e22d-ee8ac7520537",
    "scrolled": false
   },
   "outputs": [
    {
     "data": {
      "image/svg+xml": [
       "<?xml version=\"1.0\" encoding=\"UTF-8\" standalone=\"no\"?>\n",
       "<!DOCTYPE svg PUBLIC \"-//W3C//DTD SVG 1.1//EN\"\n",
       " \"http://www.w3.org/Graphics/SVG/1.1/DTD/svg11.dtd\">\n",
       "<!-- Generated by graphviz version 2.47.0 (20210316.0004)\n",
       " -->\n",
       "<!-- Pages: 1 -->\n",
       "<svg width=\"1418pt\" height=\"305pt\"\n",
       " viewBox=\"0.00 0.00 1417.89 305.00\" xmlns=\"http://www.w3.org/2000/svg\" xmlns:xlink=\"http://www.w3.org/1999/xlink\">\n",
       "<g id=\"graph0\" class=\"graph\" transform=\"scale(1 1) rotate(0) translate(4 301)\">\n",
       "<polygon fill=\"white\" stroke=\"transparent\" points=\"-4,4 -4,-301 1413.89,-301 1413.89,4 -4,4\"/>\n",
       "<!-- 0 -->\n",
       "<g id=\"node1\" class=\"node\">\n",
       "<title>0</title>\n",
       "<ellipse fill=\"none\" stroke=\"black\" cx=\"677.94\" cy=\"-279\" rx=\"82.59\" ry=\"18\"/>\n",
       "<text text-anchor=\"middle\" x=\"677.94\" y=\"-275.3\" font-family=\"Times,serif\" font-size=\"14.00\">history&lt;35.6949997</text>\n",
       "</g>\n",
       "<!-- 1 -->\n",
       "<g id=\"node2\" class=\"node\">\n",
       "<title>1</title>\n",
       "<ellipse fill=\"none\" stroke=\"black\" cx=\"499.94\" cy=\"-192\" rx=\"82.59\" ry=\"18\"/>\n",
       "<text text-anchor=\"middle\" x=\"499.94\" y=\"-188.3\" font-family=\"Times,serif\" font-size=\"14.00\">history&lt;34.5650024</text>\n",
       "</g>\n",
       "<!-- 0&#45;&gt;1 -->\n",
       "<g id=\"edge1\" class=\"edge\">\n",
       "<title>0&#45;&gt;1</title>\n",
       "<path fill=\"none\" stroke=\"#0000ff\" d=\"M645.29,-262.41C616.28,-248.55 573.69,-228.22 542.11,-213.13\"/>\n",
       "<polygon fill=\"#0000ff\" stroke=\"#0000ff\" points=\"543.22,-209.79 532.68,-208.64 540.2,-216.1 543.22,-209.79\"/>\n",
       "<text text-anchor=\"middle\" x=\"634.44\" y=\"-231.8\" font-family=\"Times,serif\" font-size=\"14.00\">yes, missing</text>\n",
       "</g>\n",
       "<!-- 2 -->\n",
       "<g id=\"node3\" class=\"node\">\n",
       "<title>2</title>\n",
       "<ellipse fill=\"none\" stroke=\"black\" cx=\"856.94\" cy=\"-192\" rx=\"82.59\" ry=\"18\"/>\n",
       "<text text-anchor=\"middle\" x=\"856.94\" y=\"-188.3\" font-family=\"Times,serif\" font-size=\"14.00\">history&lt;68.1549988</text>\n",
       "</g>\n",
       "<!-- 0&#45;&gt;2 -->\n",
       "<g id=\"edge2\" class=\"edge\">\n",
       "<title>0&#45;&gt;2</title>\n",
       "<path fill=\"none\" stroke=\"#ff0000\" d=\"M710.77,-262.41C740.08,-248.49 783.15,-228.04 814.95,-212.94\"/>\n",
       "<polygon fill=\"#ff0000\" stroke=\"#ff0000\" points=\"816.49,-216.09 824.02,-208.64 813.48,-209.76 816.49,-216.09\"/>\n",
       "<text text-anchor=\"middle\" x=\"785.94\" y=\"-231.8\" font-family=\"Times,serif\" font-size=\"14.00\">no</text>\n",
       "</g>\n",
       "<!-- 3 -->\n",
       "<g id=\"node4\" class=\"node\">\n",
       "<title>3</title>\n",
       "<ellipse fill=\"none\" stroke=\"black\" cx=\"256.94\" cy=\"-105\" rx=\"82.59\" ry=\"18\"/>\n",
       "<text text-anchor=\"middle\" x=\"256.94\" y=\"-101.3\" font-family=\"Times,serif\" font-size=\"14.00\">history&lt;34.3450012</text>\n",
       "</g>\n",
       "<!-- 1&#45;&gt;3 -->\n",
       "<g id=\"edge3\" class=\"edge\">\n",
       "<title>1&#45;&gt;3</title>\n",
       "<path fill=\"none\" stroke=\"#0000ff\" d=\"M458.17,-176.39C416.58,-161.84 352.67,-139.48 308.07,-123.88\"/>\n",
       "<polygon fill=\"#0000ff\" stroke=\"#0000ff\" points=\"309.17,-120.56 298.58,-120.56 306.86,-127.17 309.17,-120.56\"/>\n",
       "<text text-anchor=\"middle\" x=\"428.44\" y=\"-144.8\" font-family=\"Times,serif\" font-size=\"14.00\">yes, missing</text>\n",
       "</g>\n",
       "<!-- 4 -->\n",
       "<g id=\"node5\" class=\"node\">\n",
       "<title>4</title>\n",
       "<ellipse fill=\"none\" stroke=\"black\" cx=\"499.94\" cy=\"-105\" rx=\"54.69\" ry=\"18\"/>\n",
       "<text text-anchor=\"middle\" x=\"499.94\" y=\"-101.3\" font-family=\"Times,serif\" font-size=\"14.00\">recency&lt;9.5</text>\n",
       "</g>\n",
       "<!-- 1&#45;&gt;4 -->\n",
       "<g id=\"edge4\" class=\"edge\">\n",
       "<title>1&#45;&gt;4</title>\n",
       "<path fill=\"none\" stroke=\"#ff0000\" d=\"M499.94,-173.8C499.94,-162.16 499.94,-146.55 499.94,-133.24\"/>\n",
       "<polygon fill=\"#ff0000\" stroke=\"#ff0000\" points=\"503.44,-133.18 499.94,-123.18 496.44,-133.18 503.44,-133.18\"/>\n",
       "<text text-anchor=\"middle\" x=\"506.94\" y=\"-144.8\" font-family=\"Times,serif\" font-size=\"14.00\">no</text>\n",
       "</g>\n",
       "<!-- 5 -->\n",
       "<g id=\"node10\" class=\"node\">\n",
       "<title>5</title>\n",
       "<ellipse fill=\"none\" stroke=\"black\" cx=\"856.94\" cy=\"-105\" rx=\"82.59\" ry=\"18\"/>\n",
       "<text text-anchor=\"middle\" x=\"856.94\" y=\"-101.3\" font-family=\"Times,serif\" font-size=\"14.00\">history&lt;67.9649963</text>\n",
       "</g>\n",
       "<!-- 2&#45;&gt;5 -->\n",
       "<g id=\"edge9\" class=\"edge\">\n",
       "<title>2&#45;&gt;5</title>\n",
       "<path fill=\"none\" stroke=\"#0000ff\" d=\"M856.94,-173.8C856.94,-162.16 856.94,-146.55 856.94,-133.24\"/>\n",
       "<polygon fill=\"#0000ff\" stroke=\"#0000ff\" points=\"860.44,-133.18 856.94,-123.18 853.44,-133.18 860.44,-133.18\"/>\n",
       "<text text-anchor=\"middle\" x=\"891.44\" y=\"-144.8\" font-family=\"Times,serif\" font-size=\"14.00\">yes, missing</text>\n",
       "</g>\n",
       "<!-- 6 -->\n",
       "<g id=\"node11\" class=\"node\">\n",
       "<title>6</title>\n",
       "<ellipse fill=\"none\" stroke=\"black\" cx=\"1151.94\" cy=\"-105\" rx=\"82.59\" ry=\"18\"/>\n",
       "<text text-anchor=\"middle\" x=\"1151.94\" y=\"-101.3\" font-family=\"Times,serif\" font-size=\"14.00\">history&lt;71.3950043</text>\n",
       "</g>\n",
       "<!-- 2&#45;&gt;6 -->\n",
       "<g id=\"edge10\" class=\"edge\">\n",
       "<title>2&#45;&gt;6</title>\n",
       "<path fill=\"none\" stroke=\"#ff0000\" d=\"M904.67,-177.25C956.51,-162.31 1039.31,-138.45 1094.63,-122.51\"/>\n",
       "<polygon fill=\"#ff0000\" stroke=\"#ff0000\" points=\"1095.65,-125.86 1104.29,-119.73 1093.71,-119.14 1095.65,-125.86\"/>\n",
       "<text text-anchor=\"middle\" x=\"1029.94\" y=\"-144.8\" font-family=\"Times,serif\" font-size=\"14.00\">no</text>\n",
       "</g>\n",
       "<!-- 7 -->\n",
       "<g id=\"node6\" class=\"node\">\n",
       "<title>7</title>\n",
       "<ellipse fill=\"none\" stroke=\"black\" cx=\"79.94\" cy=\"-18\" rx=\"79.89\" ry=\"18\"/>\n",
       "<text text-anchor=\"middle\" x=\"79.94\" y=\"-14.3\" font-family=\"Times,serif\" font-size=\"14.00\">leaf=0.0247282367</text>\n",
       "</g>\n",
       "<!-- 3&#45;&gt;7 -->\n",
       "<g id=\"edge5\" class=\"edge\">\n",
       "<title>3&#45;&gt;7</title>\n",
       "<path fill=\"none\" stroke=\"#0000ff\" d=\"M224.23,-88.33C211.64,-82.29 197.12,-75.33 183.94,-69 163.3,-59.09 140.36,-48.06 121.29,-38.89\"/>\n",
       "<polygon fill=\"#0000ff\" stroke=\"#0000ff\" points=\"122.79,-35.73 112.26,-34.55 119.76,-42.04 122.79,-35.73\"/>\n",
       "<text text-anchor=\"middle\" x=\"218.44\" y=\"-57.8\" font-family=\"Times,serif\" font-size=\"14.00\">yes, missing</text>\n",
       "</g>\n",
       "<!-- 8 -->\n",
       "<g id=\"node7\" class=\"node\">\n",
       "<title>8</title>\n",
       "<ellipse fill=\"none\" stroke=\"black\" cx=\"256.94\" cy=\"-18\" rx=\"78.79\" ry=\"18\"/>\n",
       "<text text-anchor=\"middle\" x=\"256.94\" y=\"-14.3\" font-family=\"Times,serif\" font-size=\"14.00\">leaf=&#45;0.038961038</text>\n",
       "</g>\n",
       "<!-- 3&#45;&gt;8 -->\n",
       "<g id=\"edge6\" class=\"edge\">\n",
       "<title>3&#45;&gt;8</title>\n",
       "<path fill=\"none\" stroke=\"#ff0000\" d=\"M256.94,-86.8C256.94,-75.16 256.94,-59.55 256.94,-46.24\"/>\n",
       "<polygon fill=\"#ff0000\" stroke=\"#ff0000\" points=\"260.44,-46.18 256.94,-36.18 253.44,-46.18 260.44,-46.18\"/>\n",
       "<text text-anchor=\"middle\" x=\"263.94\" y=\"-57.8\" font-family=\"Times,serif\" font-size=\"14.00\">no</text>\n",
       "</g>\n",
       "<!-- 9 -->\n",
       "<g id=\"node8\" class=\"node\">\n",
       "<title>9</title>\n",
       "<ellipse fill=\"none\" stroke=\"black\" cx=\"433.94\" cy=\"-18\" rx=\"79.89\" ry=\"18\"/>\n",
       "<text text-anchor=\"middle\" x=\"433.94\" y=\"-14.3\" font-family=\"Times,serif\" font-size=\"14.00\">leaf=0.0707692355</text>\n",
       "</g>\n",
       "<!-- 4&#45;&gt;9 -->\n",
       "<g id=\"edge7\" class=\"edge\">\n",
       "<title>4&#45;&gt;9</title>\n",
       "<path fill=\"none\" stroke=\"#0000ff\" d=\"M486.9,-87.21C477.38,-74.95 464.31,-58.11 453.54,-44.24\"/>\n",
       "<polygon fill=\"#0000ff\" stroke=\"#0000ff\" points=\"456.08,-41.8 447.18,-36.05 450.55,-46.09 456.08,-41.8\"/>\n",
       "<text text-anchor=\"middle\" x=\"505.44\" y=\"-57.8\" font-family=\"Times,serif\" font-size=\"14.00\">yes, missing</text>\n",
       "</g>\n",
       "<!-- 10 -->\n",
       "<g id=\"node9\" class=\"node\">\n",
       "<title>10</title>\n",
       "<ellipse fill=\"none\" stroke=\"black\" cx=\"611.94\" cy=\"-18\" rx=\"79.89\" ry=\"18\"/>\n",
       "<text text-anchor=\"middle\" x=\"611.94\" y=\"-14.3\" font-family=\"Times,serif\" font-size=\"14.00\">leaf=0.0272000022</text>\n",
       "</g>\n",
       "<!-- 4&#45;&gt;10 -->\n",
       "<g id=\"edge8\" class=\"edge\">\n",
       "<title>4&#45;&gt;10</title>\n",
       "<path fill=\"none\" stroke=\"#ff0000\" d=\"M520.75,-88.21C537.94,-75.16 562.58,-56.47 581.91,-41.79\"/>\n",
       "<polygon fill=\"#ff0000\" stroke=\"#ff0000\" points=\"584.25,-44.41 590.1,-35.57 580.02,-38.83 584.25,-44.41\"/>\n",
       "<text text-anchor=\"middle\" x=\"569.94\" y=\"-57.8\" font-family=\"Times,serif\" font-size=\"14.00\">no</text>\n",
       "</g>\n",
       "<!-- 11 -->\n",
       "<g id=\"node12\" class=\"node\">\n",
       "<title>11</title>\n",
       "<ellipse fill=\"none\" stroke=\"black\" cx=\"789.94\" cy=\"-18\" rx=\"79.89\" ry=\"18\"/>\n",
       "<text text-anchor=\"middle\" x=\"789.94\" y=\"-14.3\" font-family=\"Times,serif\" font-size=\"14.00\">leaf=0.0152717857</text>\n",
       "</g>\n",
       "<!-- 5&#45;&gt;11 -->\n",
       "<g id=\"edge11\" class=\"edge\">\n",
       "<title>5&#45;&gt;11</title>\n",
       "<path fill=\"none\" stroke=\"#0000ff\" d=\"M843.71,-87.21C833.98,-74.87 820.6,-57.89 809.62,-43.97\"/>\n",
       "<polygon fill=\"#0000ff\" stroke=\"#0000ff\" points=\"812.09,-41.45 803.15,-35.76 806.59,-45.78 812.09,-41.45\"/>\n",
       "<text text-anchor=\"middle\" x=\"862.44\" y=\"-57.8\" font-family=\"Times,serif\" font-size=\"14.00\">yes, missing</text>\n",
       "</g>\n",
       "<!-- 12 -->\n",
       "<g id=\"node13\" class=\"node\">\n",
       "<title>12</title>\n",
       "<ellipse fill=\"none\" stroke=\"black\" cx=\"970.94\" cy=\"-18\" rx=\"83.39\" ry=\"18\"/>\n",
       "<text text-anchor=\"middle\" x=\"970.94\" y=\"-14.3\" font-family=\"Times,serif\" font-size=\"14.00\">leaf=&#45;0.0486486517</text>\n",
       "</g>\n",
       "<!-- 5&#45;&gt;12 -->\n",
       "<g id=\"edge12\" class=\"edge\">\n",
       "<title>5&#45;&gt;12</title>\n",
       "<path fill=\"none\" stroke=\"#ff0000\" d=\"M878.92,-87.61C896.4,-74.58 921.03,-56.21 940.42,-41.76\"/>\n",
       "<polygon fill=\"#ff0000\" stroke=\"#ff0000\" points=\"942.72,-44.41 948.64,-35.63 938.53,-38.8 942.72,-44.41\"/>\n",
       "<text text-anchor=\"middle\" x=\"927.94\" y=\"-57.8\" font-family=\"Times,serif\" font-size=\"14.00\">no</text>\n",
       "</g>\n",
       "<!-- 13 -->\n",
       "<g id=\"node14\" class=\"node\">\n",
       "<title>13</title>\n",
       "<ellipse fill=\"none\" stroke=\"black\" cx=\"1151.94\" cy=\"-18\" rx=\"79.89\" ry=\"18\"/>\n",
       "<text text-anchor=\"middle\" x=\"1151.94\" y=\"-14.3\" font-family=\"Times,serif\" font-size=\"14.00\">leaf=0.0404015072</text>\n",
       "</g>\n",
       "<!-- 6&#45;&gt;13 -->\n",
       "<g id=\"edge13\" class=\"edge\">\n",
       "<title>6&#45;&gt;13</title>\n",
       "<path fill=\"none\" stroke=\"#0000ff\" d=\"M1151.94,-86.8C1151.94,-75.16 1151.94,-59.55 1151.94,-46.24\"/>\n",
       "<polygon fill=\"#0000ff\" stroke=\"#0000ff\" points=\"1155.44,-46.18 1151.94,-36.18 1148.44,-46.18 1155.44,-46.18\"/>\n",
       "<text text-anchor=\"middle\" x=\"1186.44\" y=\"-57.8\" font-family=\"Times,serif\" font-size=\"14.00\">yes, missing</text>\n",
       "</g>\n",
       "<!-- 14 -->\n",
       "<g id=\"node15\" class=\"node\">\n",
       "<title>14</title>\n",
       "<ellipse fill=\"none\" stroke=\"black\" cx=\"1329.94\" cy=\"-18\" rx=\"79.89\" ry=\"18\"/>\n",
       "<text text-anchor=\"middle\" x=\"1329.94\" y=\"-14.3\" font-family=\"Times,serif\" font-size=\"14.00\">leaf=0.0213386882</text>\n",
       "</g>\n",
       "<!-- 6&#45;&gt;14 -->\n",
       "<g id=\"edge14\" class=\"edge\">\n",
       "<title>6&#45;&gt;14</title>\n",
       "<path fill=\"none\" stroke=\"#ff0000\" d=\"M1184.59,-88.41C1213.7,-74.51 1256.46,-54.09 1288.08,-38.99\"/>\n",
       "<polygon fill=\"#ff0000\" stroke=\"#ff0000\" points=\"1289.99,-41.96 1297.5,-34.49 1286.97,-35.64 1289.99,-41.96\"/>\n",
       "<text text-anchor=\"middle\" x=\"1257.94\" y=\"-57.8\" font-family=\"Times,serif\" font-size=\"14.00\">no</text>\n",
       "</g>\n",
       "</g>\n",
       "</svg>\n"
      ],
      "text/plain": [
       "<graphviz.files.Source at 0x7f9c181ab490>"
      ]
     },
     "execution_count": 43,
     "metadata": {},
     "output_type": "execute_result"
    }
   ],
   "source": [
    "xgb.to_graphviz(xgb_wrapper, num_trees=3)"
   ]
  },
  {
   "cell_type": "markdown",
   "metadata": {
    "id": "EdYMcJBYhHJU"
   },
   "source": [
    "# Evaluation"
   ]
  },
  {
   "cell_type": "markdown",
   "metadata": {
    "id": "L6h0NzhZhHJU"
   },
   "source": [
    "이제 Uplift Score가 고객들을 잘 분류해내고 있는지 평가해야합니다. <br> 사실 Uplift Model을 평가하는 것을 굉장히 어려우나 간단하게 \n",
    "Uplift score 상위 25%의 고객의 ATE와 하위 25%고객의 ATE를 비교해보겠습니다. <br> 잘 분류해냈다면 상위 25% 고객의 ATE가 더 크게 나오게 될 것입니다.\n",
    "<br>\n",
    "각 수치를 딕셔너리로 담아 데이터프레임으로 만들어 보기 좋게 만들었습니다"
   ]
  },
  {
   "cell_type": "code",
   "execution_count": null,
   "metadata": {
    "id": "WemX6m69hHJU"
   },
   "outputs": [],
   "source": [
    "import pandas as pd "
   ]
  },
  {
   "cell_type": "code",
   "execution_count": null,
   "metadata": {
    "id": "sTMhlNPphHJU",
    "outputId": "a97fe9fe-657a-4200-f61b-757295e83750"
   },
   "outputs": [
    {
     "data": {
      "text/html": [
       "<div>\n",
       "<style scoped>\n",
       "    .dataframe tbody tr th:only-of-type {\n",
       "        vertical-align: middle;\n",
       "    }\n",
       "\n",
       "    .dataframe tbody tr th {\n",
       "        vertical-align: top;\n",
       "    }\n",
       "\n",
       "    .dataframe thead th {\n",
       "        text-align: right;\n",
       "    }\n",
       "</style>\n",
       "<table border=\"1\" class=\"dataframe\">\n",
       "  <thead>\n",
       "    <tr style=\"text-align: right;\">\n",
       "      <th></th>\n",
       "      <th>recency</th>\n",
       "      <th>history</th>\n",
       "      <th>mens</th>\n",
       "      <th>womens</th>\n",
       "      <th>newbie</th>\n",
       "      <th>zip_code_Rural</th>\n",
       "      <th>zip_code_Surburban</th>\n",
       "      <th>zip_code_Urban</th>\n",
       "      <th>history_segment_$0 - $100</th>\n",
       "      <th>history_segment_$1,000 +</th>\n",
       "      <th>...</th>\n",
       "      <th>history_segment_$350 - $500</th>\n",
       "      <th>history_segment_$500 - $750</th>\n",
       "      <th>history_segment_$750 - $1,000</th>\n",
       "      <th>channel_Multichannel</th>\n",
       "      <th>channel_Phone</th>\n",
       "      <th>channel_Web</th>\n",
       "      <th>treatment</th>\n",
       "      <th>target_spend</th>\n",
       "      <th>target_visit</th>\n",
       "      <th>target_conversion</th>\n",
       "    </tr>\n",
       "  </thead>\n",
       "  <tbody>\n",
       "    <tr>\n",
       "      <th>0</th>\n",
       "      <td>10.00000</td>\n",
       "      <td>142.44000</td>\n",
       "      <td>1.00000</td>\n",
       "      <td>0.00000</td>\n",
       "      <td>0.00000</td>\n",
       "      <td>0.00000</td>\n",
       "      <td>1.00000</td>\n",
       "      <td>0.00000</td>\n",
       "      <td>0.00000</td>\n",
       "      <td>0.00000</td>\n",
       "      <td>...</td>\n",
       "      <td>0.00000</td>\n",
       "      <td>0.00000</td>\n",
       "      <td>0.00000</td>\n",
       "      <td>0.00000</td>\n",
       "      <td>1.00000</td>\n",
       "      <td>0.00000</td>\n",
       "      <td>2</td>\n",
       "      <td>0.00000</td>\n",
       "      <td>0.00000</td>\n",
       "      <td>0.00000</td>\n",
       "    </tr>\n",
       "    <tr>\n",
       "      <th>1</th>\n",
       "      <td>7.00000</td>\n",
       "      <td>180.65000</td>\n",
       "      <td>0.00000</td>\n",
       "      <td>1.00000</td>\n",
       "      <td>1.00000</td>\n",
       "      <td>0.00000</td>\n",
       "      <td>1.00000</td>\n",
       "      <td>0.00000</td>\n",
       "      <td>0.00000</td>\n",
       "      <td>0.00000</td>\n",
       "      <td>...</td>\n",
       "      <td>0.00000</td>\n",
       "      <td>0.00000</td>\n",
       "      <td>0.00000</td>\n",
       "      <td>0.00000</td>\n",
       "      <td>0.00000</td>\n",
       "      <td>1.00000</td>\n",
       "      <td>2</td>\n",
       "      <td>0.00000</td>\n",
       "      <td>0.00000</td>\n",
       "      <td>0.00000</td>\n",
       "    </tr>\n",
       "    <tr>\n",
       "      <th>2</th>\n",
       "      <td>9.00000</td>\n",
       "      <td>675.83000</td>\n",
       "      <td>1.00000</td>\n",
       "      <td>0.00000</td>\n",
       "      <td>1.00000</td>\n",
       "      <td>1.00000</td>\n",
       "      <td>0.00000</td>\n",
       "      <td>0.00000</td>\n",
       "      <td>0.00000</td>\n",
       "      <td>0.00000</td>\n",
       "      <td>...</td>\n",
       "      <td>0.00000</td>\n",
       "      <td>1.00000</td>\n",
       "      <td>0.00000</td>\n",
       "      <td>0.00000</td>\n",
       "      <td>0.00000</td>\n",
       "      <td>1.00000</td>\n",
       "      <td>1</td>\n",
       "      <td>0.00000</td>\n",
       "      <td>0.00000</td>\n",
       "      <td>0.00000</td>\n",
       "    </tr>\n",
       "    <tr>\n",
       "      <th>3</th>\n",
       "      <td>2.00000</td>\n",
       "      <td>45.34000</td>\n",
       "      <td>1.00000</td>\n",
       "      <td>0.00000</td>\n",
       "      <td>0.00000</td>\n",
       "      <td>0.00000</td>\n",
       "      <td>0.00000</td>\n",
       "      <td>1.00000</td>\n",
       "      <td>1.00000</td>\n",
       "      <td>0.00000</td>\n",
       "      <td>...</td>\n",
       "      <td>0.00000</td>\n",
       "      <td>0.00000</td>\n",
       "      <td>0.00000</td>\n",
       "      <td>0.00000</td>\n",
       "      <td>0.00000</td>\n",
       "      <td>1.00000</td>\n",
       "      <td>2</td>\n",
       "      <td>0.00000</td>\n",
       "      <td>0.00000</td>\n",
       "      <td>0.00000</td>\n",
       "    </tr>\n",
       "    <tr>\n",
       "      <th>4</th>\n",
       "      <td>6.00000</td>\n",
       "      <td>134.83000</td>\n",
       "      <td>0.00000</td>\n",
       "      <td>1.00000</td>\n",
       "      <td>0.00000</td>\n",
       "      <td>0.00000</td>\n",
       "      <td>1.00000</td>\n",
       "      <td>0.00000</td>\n",
       "      <td>0.00000</td>\n",
       "      <td>0.00000</td>\n",
       "      <td>...</td>\n",
       "      <td>0.00000</td>\n",
       "      <td>0.00000</td>\n",
       "      <td>0.00000</td>\n",
       "      <td>0.00000</td>\n",
       "      <td>1.00000</td>\n",
       "      <td>0.00000</td>\n",
       "      <td>2</td>\n",
       "      <td>0.00000</td>\n",
       "      <td>1.00000</td>\n",
       "      <td>0.00000</td>\n",
       "    </tr>\n",
       "    <tr>\n",
       "      <th>...</th>\n",
       "      <td>...</td>\n",
       "      <td>...</td>\n",
       "      <td>...</td>\n",
       "      <td>...</td>\n",
       "      <td>...</td>\n",
       "      <td>...</td>\n",
       "      <td>...</td>\n",
       "      <td>...</td>\n",
       "      <td>...</td>\n",
       "      <td>...</td>\n",
       "      <td>...</td>\n",
       "      <td>...</td>\n",
       "      <td>...</td>\n",
       "      <td>...</td>\n",
       "      <td>...</td>\n",
       "      <td>...</td>\n",
       "      <td>...</td>\n",
       "      <td>...</td>\n",
       "      <td>...</td>\n",
       "      <td>...</td>\n",
       "      <td>...</td>\n",
       "    </tr>\n",
       "    <tr>\n",
       "      <th>57547</th>\n",
       "      <td>10.00000</td>\n",
       "      <td>105.54000</td>\n",
       "      <td>1.00000</td>\n",
       "      <td>0.00000</td>\n",
       "      <td>0.00000</td>\n",
       "      <td>0.00000</td>\n",
       "      <td>0.00000</td>\n",
       "      <td>1.00000</td>\n",
       "      <td>0.00000</td>\n",
       "      <td>0.00000</td>\n",
       "      <td>...</td>\n",
       "      <td>0.00000</td>\n",
       "      <td>0.00000</td>\n",
       "      <td>0.00000</td>\n",
       "      <td>0.00000</td>\n",
       "      <td>0.00000</td>\n",
       "      <td>1.00000</td>\n",
       "      <td>1</td>\n",
       "      <td>0.00000</td>\n",
       "      <td>0.00000</td>\n",
       "      <td>0.00000</td>\n",
       "    </tr>\n",
       "    <tr>\n",
       "      <th>57548</th>\n",
       "      <td>5.00000</td>\n",
       "      <td>38.91000</td>\n",
       "      <td>0.00000</td>\n",
       "      <td>1.00000</td>\n",
       "      <td>1.00000</td>\n",
       "      <td>0.00000</td>\n",
       "      <td>0.00000</td>\n",
       "      <td>1.00000</td>\n",
       "      <td>1.00000</td>\n",
       "      <td>0.00000</td>\n",
       "      <td>...</td>\n",
       "      <td>0.00000</td>\n",
       "      <td>0.00000</td>\n",
       "      <td>0.00000</td>\n",
       "      <td>0.00000</td>\n",
       "      <td>1.00000</td>\n",
       "      <td>0.00000</td>\n",
       "      <td>1</td>\n",
       "      <td>0.00000</td>\n",
       "      <td>0.00000</td>\n",
       "      <td>0.00000</td>\n",
       "    </tr>\n",
       "    <tr>\n",
       "      <th>57549</th>\n",
       "      <td>6.00000</td>\n",
       "      <td>29.99000</td>\n",
       "      <td>1.00000</td>\n",
       "      <td>0.00000</td>\n",
       "      <td>1.00000</td>\n",
       "      <td>0.00000</td>\n",
       "      <td>0.00000</td>\n",
       "      <td>1.00000</td>\n",
       "      <td>1.00000</td>\n",
       "      <td>0.00000</td>\n",
       "      <td>...</td>\n",
       "      <td>0.00000</td>\n",
       "      <td>0.00000</td>\n",
       "      <td>0.00000</td>\n",
       "      <td>0.00000</td>\n",
       "      <td>1.00000</td>\n",
       "      <td>0.00000</td>\n",
       "      <td>1</td>\n",
       "      <td>0.00000</td>\n",
       "      <td>0.00000</td>\n",
       "      <td>0.00000</td>\n",
       "    </tr>\n",
       "    <tr>\n",
       "      <th>57550</th>\n",
       "      <td>1.00000</td>\n",
       "      <td>552.94000</td>\n",
       "      <td>1.00000</td>\n",
       "      <td>0.00000</td>\n",
       "      <td>1.00000</td>\n",
       "      <td>0.00000</td>\n",
       "      <td>1.00000</td>\n",
       "      <td>0.00000</td>\n",
       "      <td>0.00000</td>\n",
       "      <td>0.00000</td>\n",
       "      <td>...</td>\n",
       "      <td>0.00000</td>\n",
       "      <td>1.00000</td>\n",
       "      <td>0.00000</td>\n",
       "      <td>1.00000</td>\n",
       "      <td>0.00000</td>\n",
       "      <td>0.00000</td>\n",
       "      <td>2</td>\n",
       "      <td>0.00000</td>\n",
       "      <td>0.00000</td>\n",
       "      <td>0.00000</td>\n",
       "    </tr>\n",
       "    <tr>\n",
       "      <th>57551</th>\n",
       "      <td>1.00000</td>\n",
       "      <td>472.82000</td>\n",
       "      <td>0.00000</td>\n",
       "      <td>1.00000</td>\n",
       "      <td>0.00000</td>\n",
       "      <td>0.00000</td>\n",
       "      <td>1.00000</td>\n",
       "      <td>0.00000</td>\n",
       "      <td>0.00000</td>\n",
       "      <td>0.00000</td>\n",
       "      <td>...</td>\n",
       "      <td>1.00000</td>\n",
       "      <td>0.00000</td>\n",
       "      <td>0.00000</td>\n",
       "      <td>0.00000</td>\n",
       "      <td>0.00000</td>\n",
       "      <td>1.00000</td>\n",
       "      <td>1</td>\n",
       "      <td>0.00000</td>\n",
       "      <td>0.00000</td>\n",
       "      <td>0.00000</td>\n",
       "    </tr>\n",
       "  </tbody>\n",
       "</table>\n",
       "<p>57552 rows × 22 columns</p>\n",
       "</div>"
      ],
      "text/plain": [
       "       recency   history    mens  womens  newbie  zip_code_Rural  \\\n",
       "0     10.00000 142.44000 1.00000 0.00000 0.00000         0.00000   \n",
       "1      7.00000 180.65000 0.00000 1.00000 1.00000         0.00000   \n",
       "2      9.00000 675.83000 1.00000 0.00000 1.00000         1.00000   \n",
       "3      2.00000  45.34000 1.00000 0.00000 0.00000         0.00000   \n",
       "4      6.00000 134.83000 0.00000 1.00000 0.00000         0.00000   \n",
       "...        ...       ...     ...     ...     ...             ...   \n",
       "57547 10.00000 105.54000 1.00000 0.00000 0.00000         0.00000   \n",
       "57548  5.00000  38.91000 0.00000 1.00000 1.00000         0.00000   \n",
       "57549  6.00000  29.99000 1.00000 0.00000 1.00000         0.00000   \n",
       "57550  1.00000 552.94000 1.00000 0.00000 1.00000         0.00000   \n",
       "57551  1.00000 472.82000 0.00000 1.00000 0.00000         0.00000   \n",
       "\n",
       "       zip_code_Surburban  zip_code_Urban  history_segment_$0 - $100  \\\n",
       "0                 1.00000         0.00000                    0.00000   \n",
       "1                 1.00000         0.00000                    0.00000   \n",
       "2                 0.00000         0.00000                    0.00000   \n",
       "3                 0.00000         1.00000                    1.00000   \n",
       "4                 1.00000         0.00000                    0.00000   \n",
       "...                   ...             ...                        ...   \n",
       "57547             0.00000         1.00000                    0.00000   \n",
       "57548             0.00000         1.00000                    1.00000   \n",
       "57549             0.00000         1.00000                    1.00000   \n",
       "57550             1.00000         0.00000                    0.00000   \n",
       "57551             1.00000         0.00000                    0.00000   \n",
       "\n",
       "       history_segment_$1,000 +  ...  history_segment_$350 - $500  \\\n",
       "0                       0.00000  ...                      0.00000   \n",
       "1                       0.00000  ...                      0.00000   \n",
       "2                       0.00000  ...                      0.00000   \n",
       "3                       0.00000  ...                      0.00000   \n",
       "4                       0.00000  ...                      0.00000   \n",
       "...                         ...  ...                          ...   \n",
       "57547                   0.00000  ...                      0.00000   \n",
       "57548                   0.00000  ...                      0.00000   \n",
       "57549                   0.00000  ...                      0.00000   \n",
       "57550                   0.00000  ...                      0.00000   \n",
       "57551                   0.00000  ...                      1.00000   \n",
       "\n",
       "       history_segment_$500 - $750  history_segment_$750 - $1,000  \\\n",
       "0                          0.00000                        0.00000   \n",
       "1                          0.00000                        0.00000   \n",
       "2                          1.00000                        0.00000   \n",
       "3                          0.00000                        0.00000   \n",
       "4                          0.00000                        0.00000   \n",
       "...                            ...                            ...   \n",
       "57547                      0.00000                        0.00000   \n",
       "57548                      0.00000                        0.00000   \n",
       "57549                      0.00000                        0.00000   \n",
       "57550                      1.00000                        0.00000   \n",
       "57551                      0.00000                        0.00000   \n",
       "\n",
       "       channel_Multichannel  channel_Phone  channel_Web  treatment  \\\n",
       "0                   0.00000        1.00000      0.00000          2   \n",
       "1                   0.00000        0.00000      1.00000          2   \n",
       "2                   0.00000        0.00000      1.00000          1   \n",
       "3                   0.00000        0.00000      1.00000          2   \n",
       "4                   0.00000        1.00000      0.00000          2   \n",
       "...                     ...            ...          ...        ...   \n",
       "57547               0.00000        0.00000      1.00000          1   \n",
       "57548               0.00000        1.00000      0.00000          1   \n",
       "57549               0.00000        1.00000      0.00000          1   \n",
       "57550               1.00000        0.00000      0.00000          2   \n",
       "57551               0.00000        0.00000      1.00000          1   \n",
       "\n",
       "       target_spend  target_visit  target_conversion  \n",
       "0           0.00000       0.00000            0.00000  \n",
       "1           0.00000       0.00000            0.00000  \n",
       "2           0.00000       0.00000            0.00000  \n",
       "3           0.00000       0.00000            0.00000  \n",
       "4           0.00000       1.00000            0.00000  \n",
       "...             ...           ...                ...  \n",
       "57547       0.00000       0.00000            0.00000  \n",
       "57548       0.00000       0.00000            0.00000  \n",
       "57549       0.00000       0.00000            0.00000  \n",
       "57550       0.00000       0.00000            0.00000  \n",
       "57551       0.00000       0.00000            0.00000  \n",
       "\n",
       "[57552 rows x 22 columns]"
      ]
     },
     "execution_count": 45,
     "metadata": {},
     "output_type": "execute_result"
    }
   ],
   "source": [
    "ate_list = {}\n",
    "\n",
    "num = 0\n",
    "\n",
    "def cal_uplift_eval(df):   \n",
    "    \n",
    "    global num \n",
    "    # 이후 계산을 위해 평균을 계산합니다.\n",
    "    treatment_conv_mean = df[df.treatment == 1]['target_conversion'].mean()\n",
    "    control_conv_mean = df[df.treatment == 0]['target_conversion'].mean()\n",
    "    \n",
    "    # 차이 계산(횟수)\n",
    "    treatment_conv_ate = treatment_conv_mean - control_conv_mean\n",
    "    \n",
    "    # 광고를 받은 집단과 그렇지 않은 집단 간의 사이트 방문횟수의 차이를 계산합니다.\n",
    "    treatment_visit = df[df.treatment == 1]['target_visit'].mean()\n",
    "    control_visit = df[df.treatment == 0]['target_visit'].mean()\n",
    "    \n",
    "    treatment_visit_ate = treatment_visit - control_visit\n",
    "    \n",
    "    # 각 집단에 속한 사람들의 평균 Conversion의 차이에 각 집단이 속한 사람들이 평균적으로 \n",
    "    # 지출한 금액을 곱해 광고를 받은 집단이 얼마나 더 많은 지출을 하였는지 계산합니다.\n",
    "    treatment_order = treatment_conv_mean*len(df[df.treatment == 1]['target_conversion'])\n",
    "    treatment_avg_spend = df[df.treatment==1]['target_spend'].mean()\n",
    "    \n",
    "    treatment_spend_ate = treatment_order*treatment_avg_spend\n",
    "    \n",
    "    print(f\"Treatment Conversion ATE : {treatment_conv_ate:.03f}\")\n",
    "    print(f\"Treatment Visit ATE : {treatment_visit_ate :.03f}\")\n",
    "    print(f\"Treatment Spend ATE : ${treatment_spend_ate :.03f}\")\n",
    "    \n",
    "    ate_list[num] = {'Treatment Conversion ATE': treatment_conv_ate,'Treatment Visit ATE': treatment_visit_ate, 'Treatment Spend ATE':treatment_spend_ate}\n",
    "    \n",
    "    num = num + 1\n",
    "    \n",
    "final_dataset"
   ]
  },
  {
   "cell_type": "code",
   "execution_count": null,
   "metadata": {
    "id": "h47l4r_shHJU",
    "outputId": "0ae5a645-8172-4808-ba34-b49c069acd31"
   },
   "outputs": [
    {
     "name": "stdout",
     "output_type": "stream",
     "text": [
      "Treatment Conversion ATE : 0.008\n",
      "Treatment Visit ATE : 0.059\n",
      "Treatment Spend ATE : $174.522\n"
     ]
    }
   ],
   "source": [
    "data_lift = result_dataset.copy()\n",
    "uplift_q_75 = data_lift.uplift_score.quantile(0.75)\n",
    "eval_75 = data_lift[data_lift.uplift_score >= uplift_q_75]\n",
    "\n",
    "cal_uplift_eval(eval_75)"
   ]
  },
  {
   "cell_type": "code",
   "execution_count": null,
   "metadata": {
    "id": "i61nNS7jhHJU",
    "outputId": "bf4b8716-0a77-4068-e543-42e232bff930"
   },
   "outputs": [
    {
     "name": "stdout",
     "output_type": "stream",
     "text": [
      "Treatment Conversion ATE : 0.001\n",
      "Treatment Visit ATE : 0.054\n",
      "Treatment Spend ATE : $110.786\n"
     ]
    }
   ],
   "source": [
    "uplift_q_25 = data_lift.uplift_score.quantile(0.25)\n",
    "eval_25 = data_lift[data_lift.uplift_score <= uplift_q_25]\n",
    "\n",
    "cal_uplift_eval(eval_25)"
   ]
  },
  {
   "cell_type": "code",
   "execution_count": null,
   "metadata": {
    "id": "10X4eoAthHJV",
    "outputId": "aab4b3d1-f18b-41b1-ec1b-37a0ba754a8f"
   },
   "outputs": [
    {
     "data": {
      "text/plain": [
       "{0: {'Treatment Conversion ATE': 0.00811142862919265,\n",
       "  'Treatment Visit ATE': 0.05868615356310042,\n",
       "  'Treatment Spend ATE': 174.52203435500164},\n",
       " 1: {'Treatment Conversion ATE': 0.0008973412305771783,\n",
       "  'Treatment Visit ATE': 0.054458228248898094,\n",
       "  'Treatment Spend ATE': 110.78607204777495}}"
      ]
     },
     "execution_count": 48,
     "metadata": {},
     "output_type": "execute_result"
    }
   ],
   "source": [
    "ate_list"
   ]
  },
  {
   "cell_type": "code",
   "execution_count": null,
   "metadata": {
    "id": "Awfx8opihHJV",
    "outputId": "77a09728-99fb-4fa4-9ecf-eb2270dde5b3"
   },
   "outputs": [
    {
     "data": {
      "text/html": [
       "<div>\n",
       "<style scoped>\n",
       "    .dataframe tbody tr th:only-of-type {\n",
       "        vertical-align: middle;\n",
       "    }\n",
       "\n",
       "    .dataframe tbody tr th {\n",
       "        vertical-align: top;\n",
       "    }\n",
       "\n",
       "    .dataframe thead th {\n",
       "        text-align: right;\n",
       "    }\n",
       "</style>\n",
       "<table border=\"1\" class=\"dataframe\">\n",
       "  <thead>\n",
       "    <tr style=\"text-align: right;\">\n",
       "      <th></th>\n",
       "      <th>Treatment Conversion ATE</th>\n",
       "      <th>Treatment Visit ATE</th>\n",
       "      <th>Treatment Spend ATE</th>\n",
       "    </tr>\n",
       "  </thead>\n",
       "  <tbody>\n",
       "    <tr>\n",
       "      <th>up q75</th>\n",
       "      <td>0.00811</td>\n",
       "      <td>0.05869</td>\n",
       "      <td>174.52203</td>\n",
       "    </tr>\n",
       "    <tr>\n",
       "      <th>down q25</th>\n",
       "      <td>0.00090</td>\n",
       "      <td>0.05446</td>\n",
       "      <td>110.78607</td>\n",
       "    </tr>\n",
       "  </tbody>\n",
       "</table>\n",
       "</div>"
      ],
      "text/plain": [
       "          Treatment Conversion ATE  Treatment Visit ATE  Treatment Spend ATE\n",
       "up q75                     0.00811              0.05869            174.52203\n",
       "down q25                   0.00090              0.05446            110.78607"
      ]
     },
     "execution_count": 49,
     "metadata": {},
     "output_type": "execute_result"
    }
   ],
   "source": [
    "df_ate = pd.DataFrame.from_dict(ate_list)\n",
    "df_ate=df_ate.T\n",
    "df_ate.rename(index = {0:'up q75',1:'down q25'}, inplace = True)\n",
    "df_ate"
   ]
  },
  {
   "cell_type": "markdown",
   "metadata": {
    "id": "p9vBjlj7hHJV"
   },
   "source": [
    "**Explanation** \n",
    "    \n",
    "1. 구매 전환율을 보았을 때 상위 25%가 하위 25%보다 약 0.007 가량 높은 것을 확인 할 수 있었습니다.<br> 특히, 하위 25% 의 경우 오히려 광고를 진행했을 경우 구매 전환율이 0 이하로 나타나는 것으로 보아 광고 비용이 상위보다 거의 효과가 없을 수 있다는 것을 유추할 수 있습니다.\n",
    "2. 광고 진행 시 소비 금액을 비교해보았을 때 상위 25%가 하위 25%에 비해 약 40달러 정도 높은 것을 알 수 있습니다. \n",
    "3. 광고 진행시 하위 25%가 상위 25% 보다 방문률은 미미하게 높게 나타나지만 소비금액과 구매전환율이 낮은 것을 보아 방문 시 구매로 이어지는 것은 아니라는 것을 유추할 수 있습니다."
   ]
  },
  {
   "cell_type": "code",
   "execution_count": null,
   "metadata": {
    "id": "vQrBJO8xhHJV",
    "outputId": "dea10ca5-cf56-4f50-ec5c-0c6d32f9fba5"
   },
   "outputs": [
    {
     "data": {
      "text/plain": [
       "<AxesSubplot:ylabel='Treatment Conversion ATE'>"
      ]
     },
     "execution_count": 50,
     "metadata": {},
     "output_type": "execute_result"
    },
    {
     "data": {
      "image/png": "[encoded data removed]",
      "text/plain": [
       "<Figure size 432x288 with 1 Axes>"
      ]
     },
     "metadata": {
      "needs_background": "light"
     },
     "output_type": "display_data"
    }
   ],
   "source": [
    "sns.lineplot(data=df_ate['Treatment Conversion ATE'])"
   ]
  },
  {
   "cell_type": "code",
   "execution_count": null,
   "metadata": {
    "id": "0ROsXJ1ohHJV",
    "outputId": "43d24396-5b80-45e9-f8db-d6c74cd867fd"
   },
   "outputs": [
    {
     "data": {
      "text/plain": [
       "<AxesSubplot:ylabel='Treatment Visit ATE'>"
      ]
     },
     "execution_count": 51,
     "metadata": {},
     "output_type": "execute_result"
    },
    {
     "data": {
      "image/png": "[encoded data removed]",
      "text/plain": [
       "<Figure size 432x288 with 1 Axes>"
      ]
     },
     "metadata": {
      "needs_background": "light"
     },
     "output_type": "display_data"
    }
   ],
   "source": [
    "sns.lineplot(data=df_ate['Treatment Visit ATE'])"
   ]
  },
  {
   "cell_type": "code",
   "execution_count": null,
   "metadata": {
    "id": "BMeW-GvahHJV",
    "outputId": "0c35a575-70e1-4aee-e477-ae62f90ba82e"
   },
   "outputs": [
    {
     "data": {
      "text/plain": [
       "<AxesSubplot:ylabel='Treatment Spend ATE'>"
      ]
     },
     "execution_count": 52,
     "metadata": {},
     "output_type": "execute_result"
    },
    {
     "data": {
      "image/png": "[encoded data removed]",
      "text/plain": [
       "<Figure size 432x288 with 1 Axes>"
      ]
     },
     "metadata": {
      "needs_background": "light"
     },
     "output_type": "display_data"
    }
   ],
   "source": [
    "sns.lineplot(data=df_ate['Treatment Spend ATE'])"
   ]
  },
  {
   "cell_type": "code",
   "execution_count": null,
   "metadata": {
    "id": "6W4J6IeAhHJV"
   },
   "outputs": [],
   "source": []
  }
 ],
 "metadata": {
  "colab": {
   "name": "Uplift Modeling_최종.ipynb",
   "provenance": []
  },
  "kernelspec": {
   "display_name": "Python 3",
   "language": "python",
   "name": "python3"
  },
  "language_info": {
   "codemirror_mode": {
    "name": "ipython",
    "version": 3
   },
   "file_extension": ".py",
   "mimetype": "text/x-python",
   "name": "python",
   "nbconvert_exporter": "python",
   "pygments_lexer": "ipython3",
   "version": "3.8.5"
  },
  "latex_envs": {
   "LaTeX_envs_menu_present": true,
   "autoclose": false,
   "autocomplete": true,
   "bibliofile": "biblio.bib",
   "cite_by": "apalike",
   "current_citInitial": 1,
   "eqLabelWithNumbers": true,
   "eqNumInitial": 1,
   "hotkeys": {
    "equation": "Ctrl-E",
    "itemize": "Ctrl-I"
   },
   "labels_anchors": false,
   "latex_user_defs": false,
   "report_style_numbering": false,
   "user_envs_cfg": false
  },
  "toc": {
   "base_numbering": 1,
   "nav_menu": {},
   "number_sections": true,
   "sideBar": true,
   "skip_h1_title": false,
   "title_cell": "Table of Contents",
   "title_sidebar": "Contents",
   "toc_cell": false,
   "toc_position": {},
   "toc_section_display": true,
   "toc_window_display": true
  }
 },
 "nbformat": 4,
 "nbformat_minor": 1
}
